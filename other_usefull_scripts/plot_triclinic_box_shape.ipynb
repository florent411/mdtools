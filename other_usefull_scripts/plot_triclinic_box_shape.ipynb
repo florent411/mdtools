{
 "cells": [
  {
   "cell_type": "code",
   "execution_count": 1,
   "metadata": {},
   "outputs": [],
   "source": [
    "import numpy as np\n",
    "import matplotlib.pyplot as plt\n",
    "import plotly.graph_objects as go\n",
    "import plotly.express as px\n",
    "import random\n"
   ]
  },
  {
   "cell_type": "code",
   "execution_count": 2,
   "metadata": {},
   "outputs": [],
   "source": [
    "def random_color():\n",
    "    # Generating a random rgb value\n",
    "    r, g, b = list(np.random.choice(range(256), size=3))\n",
    "\n",
    "    # Convert to hex\n",
    "    return \"#{:X}{:X}{:X}\".format(r, g, b)"
   ]
  },
  {
   "attachments": {
    "image.png": {
     "image/png": "[encoded data removed]"
    }
   },
   "cell_type": "markdown",
   "metadata": {},
   "source": [
    "More info about the crystal shapes [here](https://bionerdnotes.wordpress.com/2020/05/26/the-7-crystal-systems-miller-indices-and-the-14-bravais-lattices/).\n",
    "\n",
    "I use the following shape basics:\n",
    "\n",
    "![image.png](attachment:image.png)"
   ]
  },
  {
   "cell_type": "code",
   "execution_count": 11,
   "metadata": {},
   "outputs": [],
   "source": [
    "# Side lengths\n",
    "a = 1\n",
    "b = 1\n",
    "c = 1\n",
    "\n",
    "# Angles\n",
    "alpha = np.deg2rad(90)\n",
    "beta = np.deg2rad(90)\n",
    "gamma = np.deg2rad(120)\n",
    "\n",
    "# Calculate node coordinates\n",
    "A = [0,0,0]\n",
    "B = [b * np.cos(alpha), b * np.sin(alpha), 0]\n",
    "C = [a + b * np.cos(alpha), b * np.sin(alpha), 0]\n",
    "D = [a,0,0]\n",
    "E = [c * np.cos(gamma), c * np.cos(beta), c * np.sin(beta) * np.sin(gamma)]\n",
    "F = [b * np.cos(alpha) + c * np.cos(gamma), (b + c * np.cos(beta)) * np.sin(alpha), c * np.sin(beta) * np.sin(gamma)]\n",
    "G = [a + b * np.cos(alpha) + c * np.cos(gamma), (b + c * np.cos(beta)) * np.sin (alpha), c * np.sin(beta) * np.sin(gamma)]\n",
    "H = [a + c * np.cos(gamma), c * np.cos(beta), c * np.sin(beta) * np.sin(gamma)]\n"
   ]
  },
  {
   "cell_type": "code",
   "execution_count": 12,
   "metadata": {},
   "outputs": [
    {
     "data": {
      "application/vnd.plotly.v1+json": {
       "config": {
        "plotlyServerURL": "https://plot.ly"
       },
       "data": [
        {
         "flatshading": true,
         "i": [
          7,
          0,
          0,
          0,
          4,
          4,
          6,
          1,
          4,
          0,
          3,
          6
         ],
         "j": [
          3,
          4,
          1,
          2,
          5,
          6,
          5,
          2,
          0,
          1,
          6,
          3
         ],
         "k": [
          0,
          7,
          2,
          3,
          6,
          7,
          1,
          6,
          5,
          5,
          7,
          2
         ],
         "opacity": 1,
         "type": "mesh3d",
         "x": [
          0,
          6.123233995736766e-17,
          1,
          1,
          -0.4999999999999998,
          -0.4999999999999997,
          0.5000000000000002,
          0.5000000000000002
         ],
         "y": [
          0,
          1,
          1,
          0,
          6.123233995736766e-17,
          1,
          1,
          6.123233995736766e-17
         ],
         "z": [
          0,
          0,
          0,
          0,
          0.8660254037844388,
          0.8660254037844388,
          0.8660254037844388,
          0.8660254037844388
         ]
        },
        {
         "marker": {
          "color": "black",
          "line": {
           "color": "white",
           "width": 0
          },
          "size": 2
         },
         "opacity": 1,
         "type": "scatter3d",
         "x": [
          0,
          6.123233995736766e-17,
          1,
          1,
          -0.4999999999999998,
          -0.4999999999999997,
          0.5000000000000002,
          0.5000000000000002
         ],
         "y": [
          0,
          1,
          1,
          0,
          6.123233995736766e-17,
          1,
          1,
          6.123233995736766e-17
         ],
         "z": [
          0,
          0,
          0,
          0,
          0.8660254037844388,
          0.8660254037844388,
          0.8660254037844388,
          0.8660254037844388
         ]
        },
        {
         "marker": {
          "color": "blue",
          "line": {
           "color": "white",
           "width": 0
          }
         },
         "opacity": 1,
         "type": "scatter3d",
         "x": [
          -0.4999999999999997
         ],
         "y": [
          1
         ],
         "z": [
          0.8660254037844388
         ]
        },
        {
         "marker": {
          "color": "red",
          "line": {
           "color": "white",
           "width": 0
          }
         },
         "opacity": 1,
         "type": "scatter3d",
         "x": [
          -0.4999999999999998
         ],
         "y": [
          6.123233995736766e-17
         ],
         "z": [
          0.8660254037844388
         ]
        },
        {
         "flatshading": true,
         "i": [
          7,
          0,
          0,
          0,
          4,
          4,
          6,
          1,
          4,
          0,
          3,
          6
         ],
         "j": [
          3,
          4,
          1,
          2,
          5,
          6,
          5,
          2,
          0,
          1,
          6,
          3
         ],
         "k": [
          0,
          7,
          2,
          3,
          6,
          7,
          1,
          6,
          5,
          5,
          7,
          2
         ],
         "opacity": 1,
         "type": "mesh3d",
         "x": [
          0,
          6.123233995736766e-17,
          1,
          1,
          -0.4999999999999998,
          -0.4999999999999997,
          0.5000000000000002,
          0.5000000000000002
         ],
         "y": [
          0,
          1,
          1,
          0,
          6.123233995736766e-17,
          1,
          1,
          6.123233995736766e-17
         ],
         "z": [
          1,
          1,
          1,
          1,
          1.8660254037844388,
          1.8660254037844388,
          1.8660254037844388,
          1.8660254037844388
         ]
        },
        {
         "marker": {
          "color": "black",
          "line": {
           "color": "white",
           "width": 0
          },
          "size": 2
         },
         "opacity": 1,
         "type": "scatter3d",
         "x": [
          0,
          6.123233995736766e-17,
          1,
          1,
          -0.4999999999999998,
          -0.4999999999999997,
          0.5000000000000002,
          0.5000000000000002
         ],
         "y": [
          0,
          1,
          1,
          0,
          6.123233995736766e-17,
          1,
          1,
          6.123233995736766e-17
         ],
         "z": [
          1,
          1,
          1,
          1,
          1.8660254037844388,
          1.8660254037844388,
          1.8660254037844388,
          1.8660254037844388
         ]
        },
        {
         "marker": {
          "color": "blue",
          "line": {
           "color": "white",
           "width": 0
          }
         },
         "opacity": 1,
         "type": "scatter3d",
         "x": [
          -0.4999999999999997
         ],
         "y": [
          1
         ],
         "z": [
          0.8660254037844388
         ]
        },
        {
         "marker": {
          "color": "red",
          "line": {
           "color": "white",
           "width": 0
          }
         },
         "opacity": 1,
         "type": "scatter3d",
         "x": [
          -0.4999999999999998
         ],
         "y": [
          6.123233995736766e-17
         ],
         "z": [
          0.8660254037844388
         ]
        },
        {
         "flatshading": true,
         "i": [
          7,
          0,
          0,
          0,
          4,
          4,
          6,
          1,
          4,
          0,
          3,
          6
         ],
         "j": [
          3,
          4,
          1,
          2,
          5,
          6,
          5,
          2,
          0,
          1,
          6,
          3
         ],
         "k": [
          0,
          7,
          2,
          3,
          6,
          7,
          1,
          6,
          5,
          5,
          7,
          2
         ],
         "opacity": 1,
         "type": "mesh3d",
         "x": [
          5.551115123125783e-17,
          1.1102230246251565e-16,
          1,
          1,
          -0.4999999999999998,
          -0.49999999999999967,
          0.5000000000000002,
          0.5000000000000002
         ],
         "y": [
          0.9999999999999999,
          2,
          2,
          0.9999999999999999,
          0.9999999999999999,
          2,
          2,
          0.9999999999999999
         ],
         "z": [
          0,
          0,
          0,
          0,
          0.8660254037844388,
          0.8660254037844388,
          0.8660254037844388,
          0.8660254037844388
         ]
        },
        {
         "marker": {
          "color": "black",
          "line": {
           "color": "white",
           "width": 0
          },
          "size": 2
         },
         "opacity": 1,
         "type": "scatter3d",
         "x": [
          5.551115123125783e-17,
          1.1102230246251565e-16,
          1,
          1,
          -0.4999999999999998,
          -0.49999999999999967,
          0.5000000000000002,
          0.5000000000000002
         ],
         "y": [
          0.9999999999999999,
          2,
          2,
          0.9999999999999999,
          0.9999999999999999,
          2,
          2,
          0.9999999999999999
         ],
         "z": [
          0,
          0,
          0,
          0,
          0.8660254037844388,
          0.8660254037844388,
          0.8660254037844388,
          0.8660254037844388
         ]
        },
        {
         "marker": {
          "color": "blue",
          "line": {
           "color": "white",
           "width": 0
          }
         },
         "opacity": 1,
         "type": "scatter3d",
         "x": [
          -0.4999999999999997
         ],
         "y": [
          1
         ],
         "z": [
          0.8660254037844388
         ]
        },
        {
         "marker": {
          "color": "red",
          "line": {
           "color": "white",
           "width": 0
          }
         },
         "opacity": 1,
         "type": "scatter3d",
         "x": [
          -0.4999999999999998
         ],
         "y": [
          6.123233995736766e-17
         ],
         "z": [
          0.8660254037844388
         ]
        },
        {
         "flatshading": true,
         "i": [
          7,
          0,
          0,
          0,
          4,
          4,
          6,
          1,
          4,
          0,
          3,
          6
         ],
         "j": [
          3,
          4,
          1,
          2,
          5,
          6,
          5,
          2,
          0,
          1,
          6,
          3
         ],
         "k": [
          0,
          7,
          2,
          3,
          6,
          7,
          1,
          6,
          5,
          5,
          7,
          2
         ],
         "opacity": 1,
         "type": "mesh3d",
         "x": [
          5.551115123125783e-17,
          1.1102230246251565e-16,
          1,
          1,
          -0.4999999999999998,
          -0.49999999999999967,
          0.5000000000000002,
          0.5000000000000002
         ],
         "y": [
          0.9999999999999999,
          2,
          2,
          0.9999999999999999,
          0.9999999999999999,
          2,
          2,
          0.9999999999999999
         ],
         "z": [
          1,
          1,
          1,
          1,
          1.8660254037844388,
          1.8660254037844388,
          1.8660254037844388,
          1.8660254037844388
         ]
        },
        {
         "marker": {
          "color": "black",
          "line": {
           "color": "white",
           "width": 0
          },
          "size": 2
         },
         "opacity": 1,
         "type": "scatter3d",
         "x": [
          5.551115123125783e-17,
          1.1102230246251565e-16,
          1,
          1,
          -0.4999999999999998,
          -0.49999999999999967,
          0.5000000000000002,
          0.5000000000000002
         ],
         "y": [
          0.9999999999999999,
          2,
          2,
          0.9999999999999999,
          0.9999999999999999,
          2,
          2,
          0.9999999999999999
         ],
         "z": [
          1,
          1,
          1,
          1,
          1.8660254037844388,
          1.8660254037844388,
          1.8660254037844388,
          1.8660254037844388
         ]
        },
        {
         "marker": {
          "color": "blue",
          "line": {
           "color": "white",
           "width": 0
          }
         },
         "opacity": 1,
         "type": "scatter3d",
         "x": [
          -0.4999999999999997
         ],
         "y": [
          1
         ],
         "z": [
          0.8660254037844388
         ]
        },
        {
         "marker": {
          "color": "red",
          "line": {
           "color": "white",
           "width": 0
          }
         },
         "opacity": 1,
         "type": "scatter3d",
         "x": [
          -0.4999999999999998
         ],
         "y": [
          6.123233995736766e-17
         ],
         "z": [
          0.8660254037844388
         ]
        },
        {
         "flatshading": true,
         "i": [
          7,
          0,
          0,
          0,
          4,
          4,
          6,
          1,
          4,
          0,
          3,
          6
         ],
         "j": [
          3,
          4,
          1,
          2,
          5,
          6,
          5,
          2,
          0,
          1,
          6,
          3
         ],
         "k": [
          0,
          7,
          2,
          3,
          6,
          7,
          1,
          6,
          5,
          5,
          7,
          2
         ],
         "opacity": 1,
         "type": "mesh3d",
         "x": [
          1,
          1,
          2,
          2,
          0.5000000000000002,
          0.5000000000000002,
          1.5000000000000002,
          1.5000000000000002
         ],
         "y": [
          0,
          1,
          1,
          0,
          6.123233995736766e-17,
          1,
          1,
          6.123233995736766e-17
         ],
         "z": [
          0,
          0,
          0,
          0,
          0.8660254037844388,
          0.8660254037844388,
          0.8660254037844388,
          0.8660254037844388
         ]
        },
        {
         "marker": {
          "color": "black",
          "line": {
           "color": "white",
           "width": 0
          },
          "size": 2
         },
         "opacity": 1,
         "type": "scatter3d",
         "x": [
          1,
          1,
          2,
          2,
          0.5000000000000002,
          0.5000000000000002,
          1.5000000000000002,
          1.5000000000000002
         ],
         "y": [
          0,
          1,
          1,
          0,
          6.123233995736766e-17,
          1,
          1,
          6.123233995736766e-17
         ],
         "z": [
          0,
          0,
          0,
          0,
          0.8660254037844388,
          0.8660254037844388,
          0.8660254037844388,
          0.8660254037844388
         ]
        },
        {
         "marker": {
          "color": "blue",
          "line": {
           "color": "white",
           "width": 0
          }
         },
         "opacity": 1,
         "type": "scatter3d",
         "x": [
          -0.4999999999999997
         ],
         "y": [
          1
         ],
         "z": [
          0.8660254037844388
         ]
        },
        {
         "marker": {
          "color": "red",
          "line": {
           "color": "white",
           "width": 0
          }
         },
         "opacity": 1,
         "type": "scatter3d",
         "x": [
          -0.4999999999999998
         ],
         "y": [
          6.123233995736766e-17
         ],
         "z": [
          0.8660254037844388
         ]
        },
        {
         "flatshading": true,
         "i": [
          7,
          0,
          0,
          0,
          4,
          4,
          6,
          1,
          4,
          0,
          3,
          6
         ],
         "j": [
          3,
          4,
          1,
          2,
          5,
          6,
          5,
          2,
          0,
          1,
          6,
          3
         ],
         "k": [
          0,
          7,
          2,
          3,
          6,
          7,
          1,
          6,
          5,
          5,
          7,
          2
         ],
         "opacity": 1,
         "type": "mesh3d",
         "x": [
          1,
          1,
          2,
          2,
          0.5000000000000002,
          0.5000000000000002,
          1.5000000000000002,
          1.5000000000000002
         ],
         "y": [
          0,
          1,
          1,
          0,
          6.123233995736766e-17,
          1,
          1,
          6.123233995736766e-17
         ],
         "z": [
          1,
          1,
          1,
          1,
          1.8660254037844388,
          1.8660254037844388,
          1.8660254037844388,
          1.8660254037844388
         ]
        },
        {
         "marker": {
          "color": "black",
          "line": {
           "color": "white",
           "width": 0
          },
          "size": 2
         },
         "opacity": 1,
         "type": "scatter3d",
         "x": [
          1,
          1,
          2,
          2,
          0.5000000000000002,
          0.5000000000000002,
          1.5000000000000002,
          1.5000000000000002
         ],
         "y": [
          0,
          1,
          1,
          0,
          6.123233995736766e-17,
          1,
          1,
          6.123233995736766e-17
         ],
         "z": [
          1,
          1,
          1,
          1,
          1.8660254037844388,
          1.8660254037844388,
          1.8660254037844388,
          1.8660254037844388
         ]
        },
        {
         "marker": {
          "color": "blue",
          "line": {
           "color": "white",
           "width": 0
          }
         },
         "opacity": 1,
         "type": "scatter3d",
         "x": [
          -0.4999999999999997
         ],
         "y": [
          1
         ],
         "z": [
          0.8660254037844388
         ]
        },
        {
         "marker": {
          "color": "red",
          "line": {
           "color": "white",
           "width": 0
          }
         },
         "opacity": 1,
         "type": "scatter3d",
         "x": [
          -0.4999999999999998
         ],
         "y": [
          6.123233995736766e-17
         ],
         "z": [
          0.8660254037844388
         ]
        },
        {
         "flatshading": true,
         "i": [
          7,
          0,
          0,
          0,
          4,
          4,
          6,
          1,
          4,
          0,
          3,
          6
         ],
         "j": [
          3,
          4,
          1,
          2,
          5,
          6,
          5,
          2,
          0,
          1,
          6,
          3
         ],
         "k": [
          0,
          7,
          2,
          3,
          6,
          7,
          1,
          6,
          5,
          5,
          7,
          2
         ],
         "opacity": 1,
         "type": "mesh3d",
         "x": [
          1,
          1,
          2,
          2,
          0.5000000000000002,
          0.5000000000000002,
          1.5000000000000002,
          1.5000000000000002
         ],
         "y": [
          0.9999999999999999,
          2,
          2,
          0.9999999999999999,
          0.9999999999999999,
          2,
          2,
          0.9999999999999999
         ],
         "z": [
          0,
          0,
          0,
          0,
          0.8660254037844388,
          0.8660254037844388,
          0.8660254037844388,
          0.8660254037844388
         ]
        },
        {
         "marker": {
          "color": "black",
          "line": {
           "color": "white",
           "width": 0
          },
          "size": 2
         },
         "opacity": 1,
         "type": "scatter3d",
         "x": [
          1,
          1,
          2,
          2,
          0.5000000000000002,
          0.5000000000000002,
          1.5000000000000002,
          1.5000000000000002
         ],
         "y": [
          0.9999999999999999,
          2,
          2,
          0.9999999999999999,
          0.9999999999999999,
          2,
          2,
          0.9999999999999999
         ],
         "z": [
          0,
          0,
          0,
          0,
          0.8660254037844388,
          0.8660254037844388,
          0.8660254037844388,
          0.8660254037844388
         ]
        },
        {
         "marker": {
          "color": "blue",
          "line": {
           "color": "white",
           "width": 0
          }
         },
         "opacity": 1,
         "type": "scatter3d",
         "x": [
          -0.4999999999999997
         ],
         "y": [
          1
         ],
         "z": [
          0.8660254037844388
         ]
        },
        {
         "marker": {
          "color": "red",
          "line": {
           "color": "white",
           "width": 0
          }
         },
         "opacity": 1,
         "type": "scatter3d",
         "x": [
          -0.4999999999999998
         ],
         "y": [
          6.123233995736766e-17
         ],
         "z": [
          0.8660254037844388
         ]
        },
        {
         "flatshading": true,
         "i": [
          7,
          0,
          0,
          0,
          4,
          4,
          6,
          1,
          4,
          0,
          3,
          6
         ],
         "j": [
          3,
          4,
          1,
          2,
          5,
          6,
          5,
          2,
          0,
          1,
          6,
          3
         ],
         "k": [
          0,
          7,
          2,
          3,
          6,
          7,
          1,
          6,
          5,
          5,
          7,
          2
         ],
         "opacity": 1,
         "type": "mesh3d",
         "x": [
          1,
          1,
          2,
          2,
          0.5000000000000002,
          0.5000000000000002,
          1.5000000000000002,
          1.5000000000000002
         ],
         "y": [
          0.9999999999999999,
          2,
          2,
          0.9999999999999999,
          0.9999999999999999,
          2,
          2,
          0.9999999999999999
         ],
         "z": [
          1,
          1,
          1,
          1,
          1.8660254037844388,
          1.8660254037844388,
          1.8660254037844388,
          1.8660254037844388
         ]
        },
        {
         "marker": {
          "color": "black",
          "line": {
           "color": "white",
           "width": 0
          },
          "size": 2
         },
         "opacity": 1,
         "type": "scatter3d",
         "x": [
          1,
          1,
          2,
          2,
          0.5000000000000002,
          0.5000000000000002,
          1.5000000000000002,
          1.5000000000000002
         ],
         "y": [
          0.9999999999999999,
          2,
          2,
          0.9999999999999999,
          0.9999999999999999,
          2,
          2,
          0.9999999999999999
         ],
         "z": [
          1,
          1,
          1,
          1,
          1.8660254037844388,
          1.8660254037844388,
          1.8660254037844388,
          1.8660254037844388
         ]
        },
        {
         "marker": {
          "color": "blue",
          "line": {
           "color": "white",
           "width": 0
          }
         },
         "opacity": 1,
         "type": "scatter3d",
         "x": [
          -0.4999999999999997
         ],
         "y": [
          1
         ],
         "z": [
          0.8660254037844388
         ]
        },
        {
         "marker": {
          "color": "red",
          "line": {
           "color": "white",
           "width": 0
          }
         },
         "opacity": 1,
         "type": "scatter3d",
         "x": [
          -0.4999999999999998
         ],
         "y": [
          6.123233995736766e-17
         ],
         "z": [
          0.8660254037844388
         ]
        },
        {
         "flatshading": true,
         "i": [
          7,
          0,
          0,
          0,
          4,
          4,
          6,
          1,
          4,
          0,
          3,
          6
         ],
         "j": [
          3,
          4,
          1,
          2,
          5,
          6,
          5,
          2,
          0,
          1,
          6,
          3
         ],
         "k": [
          0,
          7,
          2,
          3,
          6,
          7,
          1,
          6,
          5,
          5,
          7,
          2
         ],
         "opacity": 1,
         "type": "mesh3d",
         "x": [
          2,
          2,
          3,
          3,
          1.5000000000000002,
          1.5000000000000002,
          2.5,
          2.5
         ],
         "y": [
          0,
          1,
          1,
          0,
          6.123233995736766e-17,
          1,
          1,
          6.123233995736766e-17
         ],
         "z": [
          0,
          0,
          0,
          0,
          0.8660254037844388,
          0.8660254037844388,
          0.8660254037844388,
          0.8660254037844388
         ]
        },
        {
         "marker": {
          "color": "black",
          "line": {
           "color": "white",
           "width": 0
          },
          "size": 2
         },
         "opacity": 1,
         "type": "scatter3d",
         "x": [
          2,
          2,
          3,
          3,
          1.5000000000000002,
          1.5000000000000002,
          2.5,
          2.5
         ],
         "y": [
          0,
          1,
          1,
          0,
          6.123233995736766e-17,
          1,
          1,
          6.123233995736766e-17
         ],
         "z": [
          0,
          0,
          0,
          0,
          0.8660254037844388,
          0.8660254037844388,
          0.8660254037844388,
          0.8660254037844388
         ]
        },
        {
         "marker": {
          "color": "blue",
          "line": {
           "color": "white",
           "width": 0
          }
         },
         "opacity": 1,
         "type": "scatter3d",
         "x": [
          -0.4999999999999997
         ],
         "y": [
          1
         ],
         "z": [
          0.8660254037844388
         ]
        },
        {
         "marker": {
          "color": "red",
          "line": {
           "color": "white",
           "width": 0
          }
         },
         "opacity": 1,
         "type": "scatter3d",
         "x": [
          -0.4999999999999998
         ],
         "y": [
          6.123233995736766e-17
         ],
         "z": [
          0.8660254037844388
         ]
        },
        {
         "flatshading": true,
         "i": [
          7,
          0,
          0,
          0,
          4,
          4,
          6,
          1,
          4,
          0,
          3,
          6
         ],
         "j": [
          3,
          4,
          1,
          2,
          5,
          6,
          5,
          2,
          0,
          1,
          6,
          3
         ],
         "k": [
          0,
          7,
          2,
          3,
          6,
          7,
          1,
          6,
          5,
          5,
          7,
          2
         ],
         "opacity": 1,
         "type": "mesh3d",
         "x": [
          2,
          2,
          3,
          3,
          1.5000000000000002,
          1.5000000000000002,
          2.5,
          2.5
         ],
         "y": [
          0,
          1,
          1,
          0,
          6.123233995736766e-17,
          1,
          1,
          6.123233995736766e-17
         ],
         "z": [
          1,
          1,
          1,
          1,
          1.8660254037844388,
          1.8660254037844388,
          1.8660254037844388,
          1.8660254037844388
         ]
        },
        {
         "marker": {
          "color": "black",
          "line": {
           "color": "white",
           "width": 0
          },
          "size": 2
         },
         "opacity": 1,
         "type": "scatter3d",
         "x": [
          2,
          2,
          3,
          3,
          1.5000000000000002,
          1.5000000000000002,
          2.5,
          2.5
         ],
         "y": [
          0,
          1,
          1,
          0,
          6.123233995736766e-17,
          1,
          1,
          6.123233995736766e-17
         ],
         "z": [
          1,
          1,
          1,
          1,
          1.8660254037844388,
          1.8660254037844388,
          1.8660254037844388,
          1.8660254037844388
         ]
        },
        {
         "marker": {
          "color": "blue",
          "line": {
           "color": "white",
           "width": 0
          }
         },
         "opacity": 1,
         "type": "scatter3d",
         "x": [
          -0.4999999999999997
         ],
         "y": [
          1
         ],
         "z": [
          0.8660254037844388
         ]
        },
        {
         "marker": {
          "color": "red",
          "line": {
           "color": "white",
           "width": 0
          }
         },
         "opacity": 1,
         "type": "scatter3d",
         "x": [
          -0.4999999999999998
         ],
         "y": [
          6.123233995736766e-17
         ],
         "z": [
          0.8660254037844388
         ]
        },
        {
         "flatshading": true,
         "i": [
          7,
          0,
          0,
          0,
          4,
          4,
          6,
          1,
          4,
          0,
          3,
          6
         ],
         "j": [
          3,
          4,
          1,
          2,
          5,
          6,
          5,
          2,
          0,
          1,
          6,
          3
         ],
         "k": [
          0,
          7,
          2,
          3,
          6,
          7,
          1,
          6,
          5,
          5,
          7,
          2
         ],
         "opacity": 1,
         "type": "mesh3d",
         "x": [
          2,
          2,
          3,
          3,
          1.5000000000000002,
          1.5000000000000002,
          2.5,
          2.5
         ],
         "y": [
          0.9999999999999999,
          2,
          2,
          0.9999999999999999,
          0.9999999999999999,
          2,
          2,
          0.9999999999999999
         ],
         "z": [
          0,
          0,
          0,
          0,
          0.8660254037844388,
          0.8660254037844388,
          0.8660254037844388,
          0.8660254037844388
         ]
        },
        {
         "marker": {
          "color": "black",
          "line": {
           "color": "white",
           "width": 0
          },
          "size": 2
         },
         "opacity": 1,
         "type": "scatter3d",
         "x": [
          2,
          2,
          3,
          3,
          1.5000000000000002,
          1.5000000000000002,
          2.5,
          2.5
         ],
         "y": [
          0.9999999999999999,
          2,
          2,
          0.9999999999999999,
          0.9999999999999999,
          2,
          2,
          0.9999999999999999
         ],
         "z": [
          0,
          0,
          0,
          0,
          0.8660254037844388,
          0.8660254037844388,
          0.8660254037844388,
          0.8660254037844388
         ]
        },
        {
         "marker": {
          "color": "blue",
          "line": {
           "color": "white",
           "width": 0
          }
         },
         "opacity": 1,
         "type": "scatter3d",
         "x": [
          -0.4999999999999997
         ],
         "y": [
          1
         ],
         "z": [
          0.8660254037844388
         ]
        },
        {
         "marker": {
          "color": "red",
          "line": {
           "color": "white",
           "width": 0
          }
         },
         "opacity": 1,
         "type": "scatter3d",
         "x": [
          -0.4999999999999998
         ],
         "y": [
          6.123233995736766e-17
         ],
         "z": [
          0.8660254037844388
         ]
        },
        {
         "flatshading": true,
         "i": [
          7,
          0,
          0,
          0,
          4,
          4,
          6,
          1,
          4,
          0,
          3,
          6
         ],
         "j": [
          3,
          4,
          1,
          2,
          5,
          6,
          5,
          2,
          0,
          1,
          6,
          3
         ],
         "k": [
          0,
          7,
          2,
          3,
          6,
          7,
          1,
          6,
          5,
          5,
          7,
          2
         ],
         "opacity": 1,
         "type": "mesh3d",
         "x": [
          2,
          2,
          3,
          3,
          1.5000000000000002,
          1.5000000000000002,
          2.5,
          2.5
         ],
         "y": [
          0.9999999999999999,
          2,
          2,
          0.9999999999999999,
          0.9999999999999999,
          2,
          2,
          0.9999999999999999
         ],
         "z": [
          1,
          1,
          1,
          1,
          1.8660254037844388,
          1.8660254037844388,
          1.8660254037844388,
          1.8660254037844388
         ]
        },
        {
         "marker": {
          "color": "black",
          "line": {
           "color": "white",
           "width": 0
          },
          "size": 2
         },
         "opacity": 1,
         "type": "scatter3d",
         "x": [
          2,
          2,
          3,
          3,
          1.5000000000000002,
          1.5000000000000002,
          2.5,
          2.5
         ],
         "y": [
          0.9999999999999999,
          2,
          2,
          0.9999999999999999,
          0.9999999999999999,
          2,
          2,
          0.9999999999999999
         ],
         "z": [
          1,
          1,
          1,
          1,
          1.8660254037844388,
          1.8660254037844388,
          1.8660254037844388,
          1.8660254037844388
         ]
        },
        {
         "marker": {
          "color": "blue",
          "line": {
           "color": "white",
           "width": 0
          }
         },
         "opacity": 1,
         "type": "scatter3d",
         "x": [
          -0.4999999999999997
         ],
         "y": [
          1
         ],
         "z": [
          0.8660254037844388
         ]
        },
        {
         "marker": {
          "color": "red",
          "line": {
           "color": "white",
           "width": 0
          }
         },
         "opacity": 1,
         "type": "scatter3d",
         "x": [
          -0.4999999999999998
         ],
         "y": [
          6.123233995736766e-17
         ],
         "z": [
          0.8660254037844388
         ]
        },
        {
         "flatshading": true,
         "i": [
          7,
          0,
          0,
          0,
          4,
          4,
          6,
          1,
          4,
          0,
          3,
          6
         ],
         "j": [
          3,
          4,
          1,
          2,
          5,
          6,
          5,
          2,
          0,
          1,
          6,
          3
         ],
         "k": [
          0,
          7,
          2,
          3,
          6,
          7,
          1,
          6,
          5,
          5,
          7,
          2
         ],
         "opacity": 1,
         "type": "mesh3d",
         "x": [
          3,
          3,
          4,
          4,
          2.5,
          2.5000000000000004,
          3.5,
          3.5
         ],
         "y": [
          0,
          1,
          1,
          0,
          6.123233995736766e-17,
          1,
          1,
          6.123233995736766e-17
         ],
         "z": [
          0,
          0,
          0,
          0,
          0.8660254037844388,
          0.8660254037844388,
          0.8660254037844388,
          0.8660254037844388
         ]
        },
        {
         "marker": {
          "color": "black",
          "line": {
           "color": "white",
           "width": 0
          },
          "size": 2
         },
         "opacity": 1,
         "type": "scatter3d",
         "x": [
          3,
          3,
          4,
          4,
          2.5,
          2.5000000000000004,
          3.5,
          3.5
         ],
         "y": [
          0,
          1,
          1,
          0,
          6.123233995736766e-17,
          1,
          1,
          6.123233995736766e-17
         ],
         "z": [
          0,
          0,
          0,
          0,
          0.8660254037844388,
          0.8660254037844388,
          0.8660254037844388,
          0.8660254037844388
         ]
        },
        {
         "marker": {
          "color": "blue",
          "line": {
           "color": "white",
           "width": 0
          }
         },
         "opacity": 1,
         "type": "scatter3d",
         "x": [
          -0.4999999999999997
         ],
         "y": [
          1
         ],
         "z": [
          0.8660254037844388
         ]
        },
        {
         "marker": {
          "color": "red",
          "line": {
           "color": "white",
           "width": 0
          }
         },
         "opacity": 1,
         "type": "scatter3d",
         "x": [
          -0.4999999999999998
         ],
         "y": [
          6.123233995736766e-17
         ],
         "z": [
          0.8660254037844388
         ]
        },
        {
         "flatshading": true,
         "i": [
          7,
          0,
          0,
          0,
          4,
          4,
          6,
          1,
          4,
          0,
          3,
          6
         ],
         "j": [
          3,
          4,
          1,
          2,
          5,
          6,
          5,
          2,
          0,
          1,
          6,
          3
         ],
         "k": [
          0,
          7,
          2,
          3,
          6,
          7,
          1,
          6,
          5,
          5,
          7,
          2
         ],
         "opacity": 1,
         "type": "mesh3d",
         "x": [
          3,
          3,
          4,
          4,
          2.5,
          2.5000000000000004,
          3.5,
          3.5
         ],
         "y": [
          0,
          1,
          1,
          0,
          6.123233995736766e-17,
          1,
          1,
          6.123233995736766e-17
         ],
         "z": [
          1,
          1,
          1,
          1,
          1.8660254037844388,
          1.8660254037844388,
          1.8660254037844388,
          1.8660254037844388
         ]
        },
        {
         "marker": {
          "color": "black",
          "line": {
           "color": "white",
           "width": 0
          },
          "size": 2
         },
         "opacity": 1,
         "type": "scatter3d",
         "x": [
          3,
          3,
          4,
          4,
          2.5,
          2.5000000000000004,
          3.5,
          3.5
         ],
         "y": [
          0,
          1,
          1,
          0,
          6.123233995736766e-17,
          1,
          1,
          6.123233995736766e-17
         ],
         "z": [
          1,
          1,
          1,
          1,
          1.8660254037844388,
          1.8660254037844388,
          1.8660254037844388,
          1.8660254037844388
         ]
        },
        {
         "marker": {
          "color": "blue",
          "line": {
           "color": "white",
           "width": 0
          }
         },
         "opacity": 1,
         "type": "scatter3d",
         "x": [
          -0.4999999999999997
         ],
         "y": [
          1
         ],
         "z": [
          0.8660254037844388
         ]
        },
        {
         "marker": {
          "color": "red",
          "line": {
           "color": "white",
           "width": 0
          }
         },
         "opacity": 1,
         "type": "scatter3d",
         "x": [
          -0.4999999999999998
         ],
         "y": [
          6.123233995736766e-17
         ],
         "z": [
          0.8660254037844388
         ]
        },
        {
         "flatshading": true,
         "i": [
          7,
          0,
          0,
          0,
          4,
          4,
          6,
          1,
          4,
          0,
          3,
          6
         ],
         "j": [
          3,
          4,
          1,
          2,
          5,
          6,
          5,
          2,
          0,
          1,
          6,
          3
         ],
         "k": [
          0,
          7,
          2,
          3,
          6,
          7,
          1,
          6,
          5,
          5,
          7,
          2
         ],
         "opacity": 1,
         "type": "mesh3d",
         "x": [
          3,
          3,
          4,
          4,
          2.5,
          2.500000000000001,
          3.5,
          3.5
         ],
         "y": [
          0.9999999999999999,
          2,
          2,
          0.9999999999999999,
          0.9999999999999999,
          2,
          2,
          0.9999999999999999
         ],
         "z": [
          0,
          0,
          0,
          0,
          0.8660254037844388,
          0.8660254037844388,
          0.8660254037844388,
          0.8660254037844388
         ]
        },
        {
         "marker": {
          "color": "black",
          "line": {
           "color": "white",
           "width": 0
          },
          "size": 2
         },
         "opacity": 1,
         "type": "scatter3d",
         "x": [
          3,
          3,
          4,
          4,
          2.5,
          2.500000000000001,
          3.5,
          3.5
         ],
         "y": [
          0.9999999999999999,
          2,
          2,
          0.9999999999999999,
          0.9999999999999999,
          2,
          2,
          0.9999999999999999
         ],
         "z": [
          0,
          0,
          0,
          0,
          0.8660254037844388,
          0.8660254037844388,
          0.8660254037844388,
          0.8660254037844388
         ]
        },
        {
         "marker": {
          "color": "blue",
          "line": {
           "color": "white",
           "width": 0
          }
         },
         "opacity": 1,
         "type": "scatter3d",
         "x": [
          -0.4999999999999997
         ],
         "y": [
          1
         ],
         "z": [
          0.8660254037844388
         ]
        },
        {
         "marker": {
          "color": "red",
          "line": {
           "color": "white",
           "width": 0
          }
         },
         "opacity": 1,
         "type": "scatter3d",
         "x": [
          -0.4999999999999998
         ],
         "y": [
          6.123233995736766e-17
         ],
         "z": [
          0.8660254037844388
         ]
        },
        {
         "flatshading": true,
         "i": [
          7,
          0,
          0,
          0,
          4,
          4,
          6,
          1,
          4,
          0,
          3,
          6
         ],
         "j": [
          3,
          4,
          1,
          2,
          5,
          6,
          5,
          2,
          0,
          1,
          6,
          3
         ],
         "k": [
          0,
          7,
          2,
          3,
          6,
          7,
          1,
          6,
          5,
          5,
          7,
          2
         ],
         "opacity": 1,
         "type": "mesh3d",
         "x": [
          3,
          3,
          4,
          4,
          2.5,
          2.500000000000001,
          3.5,
          3.5
         ],
         "y": [
          0.9999999999999999,
          2,
          2,
          0.9999999999999999,
          0.9999999999999999,
          2,
          2,
          0.9999999999999999
         ],
         "z": [
          1,
          1,
          1,
          1,
          1.8660254037844388,
          1.8660254037844388,
          1.8660254037844388,
          1.8660254037844388
         ]
        },
        {
         "marker": {
          "color": "black",
          "line": {
           "color": "white",
           "width": 0
          },
          "size": 2
         },
         "opacity": 1,
         "type": "scatter3d",
         "x": [
          3,
          3,
          4,
          4,
          2.5,
          2.500000000000001,
          3.5,
          3.5
         ],
         "y": [
          0.9999999999999999,
          2,
          2,
          0.9999999999999999,
          0.9999999999999999,
          2,
          2,
          0.9999999999999999
         ],
         "z": [
          1,
          1,
          1,
          1,
          1.8660254037844388,
          1.8660254037844388,
          1.8660254037844388,
          1.8660254037844388
         ]
        },
        {
         "marker": {
          "color": "blue",
          "line": {
           "color": "white",
           "width": 0
          }
         },
         "opacity": 1,
         "type": "scatter3d",
         "x": [
          -0.4999999999999997
         ],
         "y": [
          1
         ],
         "z": [
          0.8660254037844388
         ]
        },
        {
         "marker": {
          "color": "red",
          "line": {
           "color": "white",
           "width": 0
          }
         },
         "opacity": 1,
         "type": "scatter3d",
         "x": [
          -0.4999999999999998
         ],
         "y": [
          6.123233995736766e-17
         ],
         "z": [
          0.8660254037844388
         ]
        },
        {
         "flatshading": true,
         "i": [
          7,
          0,
          0,
          0,
          4,
          4,
          6,
          1,
          4,
          0,
          3,
          6
         ],
         "j": [
          3,
          4,
          1,
          2,
          5,
          6,
          5,
          2,
          0,
          1,
          6,
          3
         ],
         "k": [
          0,
          7,
          2,
          3,
          6,
          7,
          1,
          6,
          5,
          5,
          7,
          2
         ],
         "opacity": 1,
         "type": "mesh3d",
         "x": [
          4,
          4,
          5,
          5,
          3.5,
          3.5000000000000004,
          4.5,
          4.5
         ],
         "y": [
          0,
          1,
          1,
          0,
          6.123233995736766e-17,
          1,
          1,
          6.123233995736766e-17
         ],
         "z": [
          0,
          0,
          0,
          0,
          0.8660254037844388,
          0.8660254037844388,
          0.8660254037844388,
          0.8660254037844388
         ]
        },
        {
         "marker": {
          "color": "black",
          "line": {
           "color": "white",
           "width": 0
          },
          "size": 2
         },
         "opacity": 1,
         "type": "scatter3d",
         "x": [
          4,
          4,
          5,
          5,
          3.5,
          3.5000000000000004,
          4.5,
          4.5
         ],
         "y": [
          0,
          1,
          1,
          0,
          6.123233995736766e-17,
          1,
          1,
          6.123233995736766e-17
         ],
         "z": [
          0,
          0,
          0,
          0,
          0.8660254037844388,
          0.8660254037844388,
          0.8660254037844388,
          0.8660254037844388
         ]
        },
        {
         "marker": {
          "color": "blue",
          "line": {
           "color": "white",
           "width": 0
          }
         },
         "opacity": 1,
         "type": "scatter3d",
         "x": [
          -0.4999999999999997
         ],
         "y": [
          1
         ],
         "z": [
          0.8660254037844388
         ]
        },
        {
         "marker": {
          "color": "red",
          "line": {
           "color": "white",
           "width": 0
          }
         },
         "opacity": 1,
         "type": "scatter3d",
         "x": [
          -0.4999999999999998
         ],
         "y": [
          6.123233995736766e-17
         ],
         "z": [
          0.8660254037844388
         ]
        },
        {
         "flatshading": true,
         "i": [
          7,
          0,
          0,
          0,
          4,
          4,
          6,
          1,
          4,
          0,
          3,
          6
         ],
         "j": [
          3,
          4,
          1,
          2,
          5,
          6,
          5,
          2,
          0,
          1,
          6,
          3
         ],
         "k": [
          0,
          7,
          2,
          3,
          6,
          7,
          1,
          6,
          5,
          5,
          7,
          2
         ],
         "opacity": 1,
         "type": "mesh3d",
         "x": [
          4,
          4,
          5,
          5,
          3.5,
          3.5000000000000004,
          4.5,
          4.5
         ],
         "y": [
          0,
          1,
          1,
          0,
          6.123233995736766e-17,
          1,
          1,
          6.123233995736766e-17
         ],
         "z": [
          1,
          1,
          1,
          1,
          1.8660254037844388,
          1.8660254037844388,
          1.8660254037844388,
          1.8660254037844388
         ]
        },
        {
         "marker": {
          "color": "black",
          "line": {
           "color": "white",
           "width": 0
          },
          "size": 2
         },
         "opacity": 1,
         "type": "scatter3d",
         "x": [
          4,
          4,
          5,
          5,
          3.5,
          3.5000000000000004,
          4.5,
          4.5
         ],
         "y": [
          0,
          1,
          1,
          0,
          6.123233995736766e-17,
          1,
          1,
          6.123233995736766e-17
         ],
         "z": [
          1,
          1,
          1,
          1,
          1.8660254037844388,
          1.8660254037844388,
          1.8660254037844388,
          1.8660254037844388
         ]
        },
        {
         "marker": {
          "color": "blue",
          "line": {
           "color": "white",
           "width": 0
          }
         },
         "opacity": 1,
         "type": "scatter3d",
         "x": [
          -0.4999999999999997
         ],
         "y": [
          1
         ],
         "z": [
          0.8660254037844388
         ]
        },
        {
         "marker": {
          "color": "red",
          "line": {
           "color": "white",
           "width": 0
          }
         },
         "opacity": 1,
         "type": "scatter3d",
         "x": [
          -0.4999999999999998
         ],
         "y": [
          6.123233995736766e-17
         ],
         "z": [
          0.8660254037844388
         ]
        },
        {
         "flatshading": true,
         "i": [
          7,
          0,
          0,
          0,
          4,
          4,
          6,
          1,
          4,
          0,
          3,
          6
         ],
         "j": [
          3,
          4,
          1,
          2,
          5,
          6,
          5,
          2,
          0,
          1,
          6,
          3
         ],
         "k": [
          0,
          7,
          2,
          3,
          6,
          7,
          1,
          6,
          5,
          5,
          7,
          2
         ],
         "opacity": 1,
         "type": "mesh3d",
         "x": [
          4,
          4,
          5,
          5,
          3.5,
          3.500000000000001,
          4.5,
          4.5
         ],
         "y": [
          0.9999999999999999,
          2,
          2,
          0.9999999999999999,
          0.9999999999999999,
          2,
          2,
          0.9999999999999999
         ],
         "z": [
          0,
          0,
          0,
          0,
          0.8660254037844388,
          0.8660254037844388,
          0.8660254037844388,
          0.8660254037844388
         ]
        },
        {
         "marker": {
          "color": "black",
          "line": {
           "color": "white",
           "width": 0
          },
          "size": 2
         },
         "opacity": 1,
         "type": "scatter3d",
         "x": [
          4,
          4,
          5,
          5,
          3.5,
          3.500000000000001,
          4.5,
          4.5
         ],
         "y": [
          0.9999999999999999,
          2,
          2,
          0.9999999999999999,
          0.9999999999999999,
          2,
          2,
          0.9999999999999999
         ],
         "z": [
          0,
          0,
          0,
          0,
          0.8660254037844388,
          0.8660254037844388,
          0.8660254037844388,
          0.8660254037844388
         ]
        },
        {
         "marker": {
          "color": "blue",
          "line": {
           "color": "white",
           "width": 0
          }
         },
         "opacity": 1,
         "type": "scatter3d",
         "x": [
          -0.4999999999999997
         ],
         "y": [
          1
         ],
         "z": [
          0.8660254037844388
         ]
        },
        {
         "marker": {
          "color": "red",
          "line": {
           "color": "white",
           "width": 0
          }
         },
         "opacity": 1,
         "type": "scatter3d",
         "x": [
          -0.4999999999999998
         ],
         "y": [
          6.123233995736766e-17
         ],
         "z": [
          0.8660254037844388
         ]
        },
        {
         "flatshading": true,
         "i": [
          7,
          0,
          0,
          0,
          4,
          4,
          6,
          1,
          4,
          0,
          3,
          6
         ],
         "j": [
          3,
          4,
          1,
          2,
          5,
          6,
          5,
          2,
          0,
          1,
          6,
          3
         ],
         "k": [
          0,
          7,
          2,
          3,
          6,
          7,
          1,
          6,
          5,
          5,
          7,
          2
         ],
         "opacity": 1,
         "type": "mesh3d",
         "x": [
          4,
          4,
          5,
          5,
          3.5,
          3.500000000000001,
          4.5,
          4.5
         ],
         "y": [
          0.9999999999999999,
          2,
          2,
          0.9999999999999999,
          0.9999999999999999,
          2,
          2,
          0.9999999999999999
         ],
         "z": [
          1,
          1,
          1,
          1,
          1.8660254037844388,
          1.8660254037844388,
          1.8660254037844388,
          1.8660254037844388
         ]
        },
        {
         "marker": {
          "color": "black",
          "line": {
           "color": "white",
           "width": 0
          },
          "size": 2
         },
         "opacity": 1,
         "type": "scatter3d",
         "x": [
          4,
          4,
          5,
          5,
          3.5,
          3.500000000000001,
          4.5,
          4.5
         ],
         "y": [
          0.9999999999999999,
          2,
          2,
          0.9999999999999999,
          0.9999999999999999,
          2,
          2,
          0.9999999999999999
         ],
         "z": [
          1,
          1,
          1,
          1,
          1.8660254037844388,
          1.8660254037844388,
          1.8660254037844388,
          1.8660254037844388
         ]
        },
        {
         "marker": {
          "color": "blue",
          "line": {
           "color": "white",
           "width": 0
          }
         },
         "opacity": 1,
         "type": "scatter3d",
         "x": [
          -0.4999999999999997
         ],
         "y": [
          1
         ],
         "z": [
          0.8660254037844388
         ]
        },
        {
         "marker": {
          "color": "red",
          "line": {
           "color": "white",
           "width": 0
          }
         },
         "opacity": 1,
         "type": "scatter3d",
         "x": [
          -0.4999999999999998
         ],
         "y": [
          6.123233995736766e-17
         ],
         "z": [
          0.8660254037844388
         ]
        },
        {
         "flatshading": true,
         "i": [
          7,
          0,
          0,
          0,
          4,
          4,
          6,
          1,
          4,
          0,
          3,
          6
         ],
         "j": [
          3,
          4,
          1,
          2,
          5,
          6,
          5,
          2,
          0,
          1,
          6,
          3
         ],
         "k": [
          0,
          7,
          2,
          3,
          6,
          7,
          1,
          6,
          5,
          5,
          7,
          2
         ],
         "opacity": 1,
         "type": "mesh3d",
         "x": [
          5,
          5,
          6,
          6,
          4.5,
          4.5,
          5.5,
          5.5
         ],
         "y": [
          0,
          1,
          1,
          0,
          6.123233995736766e-17,
          1,
          1,
          6.123233995736766e-17
         ],
         "z": [
          0,
          0,
          0,
          0,
          0.8660254037844388,
          0.8660254037844388,
          0.8660254037844388,
          0.8660254037844388
         ]
        },
        {
         "marker": {
          "color": "black",
          "line": {
           "color": "white",
           "width": 0
          },
          "size": 2
         },
         "opacity": 1,
         "type": "scatter3d",
         "x": [
          5,
          5,
          6,
          6,
          4.5,
          4.5,
          5.5,
          5.5
         ],
         "y": [
          0,
          1,
          1,
          0,
          6.123233995736766e-17,
          1,
          1,
          6.123233995736766e-17
         ],
         "z": [
          0,
          0,
          0,
          0,
          0.8660254037844388,
          0.8660254037844388,
          0.8660254037844388,
          0.8660254037844388
         ]
        },
        {
         "marker": {
          "color": "blue",
          "line": {
           "color": "white",
           "width": 0
          }
         },
         "opacity": 1,
         "type": "scatter3d",
         "x": [
          -0.4999999999999997
         ],
         "y": [
          1
         ],
         "z": [
          0.8660254037844388
         ]
        },
        {
         "marker": {
          "color": "red",
          "line": {
           "color": "white",
           "width": 0
          }
         },
         "opacity": 1,
         "type": "scatter3d",
         "x": [
          -0.4999999999999998
         ],
         "y": [
          6.123233995736766e-17
         ],
         "z": [
          0.8660254037844388
         ]
        },
        {
         "flatshading": true,
         "i": [
          7,
          0,
          0,
          0,
          4,
          4,
          6,
          1,
          4,
          0,
          3,
          6
         ],
         "j": [
          3,
          4,
          1,
          2,
          5,
          6,
          5,
          2,
          0,
          1,
          6,
          3
         ],
         "k": [
          0,
          7,
          2,
          3,
          6,
          7,
          1,
          6,
          5,
          5,
          7,
          2
         ],
         "opacity": 1,
         "type": "mesh3d",
         "x": [
          5,
          5,
          6,
          6,
          4.5,
          4.5,
          5.5,
          5.5
         ],
         "y": [
          0,
          1,
          1,
          0,
          6.123233995736766e-17,
          1,
          1,
          6.123233995736766e-17
         ],
         "z": [
          1,
          1,
          1,
          1,
          1.8660254037844388,
          1.8660254037844388,
          1.8660254037844388,
          1.8660254037844388
         ]
        },
        {
         "marker": {
          "color": "black",
          "line": {
           "color": "white",
           "width": 0
          },
          "size": 2
         },
         "opacity": 1,
         "type": "scatter3d",
         "x": [
          5,
          5,
          6,
          6,
          4.5,
          4.5,
          5.5,
          5.5
         ],
         "y": [
          0,
          1,
          1,
          0,
          6.123233995736766e-17,
          1,
          1,
          6.123233995736766e-17
         ],
         "z": [
          1,
          1,
          1,
          1,
          1.8660254037844388,
          1.8660254037844388,
          1.8660254037844388,
          1.8660254037844388
         ]
        },
        {
         "marker": {
          "color": "blue",
          "line": {
           "color": "white",
           "width": 0
          }
         },
         "opacity": 1,
         "type": "scatter3d",
         "x": [
          -0.4999999999999997
         ],
         "y": [
          1
         ],
         "z": [
          0.8660254037844388
         ]
        },
        {
         "marker": {
          "color": "red",
          "line": {
           "color": "white",
           "width": 0
          }
         },
         "opacity": 1,
         "type": "scatter3d",
         "x": [
          -0.4999999999999998
         ],
         "y": [
          6.123233995736766e-17
         ],
         "z": [
          0.8660254037844388
         ]
        },
        {
         "flatshading": true,
         "i": [
          7,
          0,
          0,
          0,
          4,
          4,
          6,
          1,
          4,
          0,
          3,
          6
         ],
         "j": [
          3,
          4,
          1,
          2,
          5,
          6,
          5,
          2,
          0,
          1,
          6,
          3
         ],
         "k": [
          0,
          7,
          2,
          3,
          6,
          7,
          1,
          6,
          5,
          5,
          7,
          2
         ],
         "opacity": 1,
         "type": "mesh3d",
         "x": [
          5,
          5,
          6,
          6,
          4.5,
          4.5,
          5.5,
          5.5
         ],
         "y": [
          0.9999999999999999,
          2,
          2,
          0.9999999999999999,
          0.9999999999999999,
          2,
          2,
          0.9999999999999999
         ],
         "z": [
          0,
          0,
          0,
          0,
          0.8660254037844388,
          0.8660254037844388,
          0.8660254037844388,
          0.8660254037844388
         ]
        },
        {
         "marker": {
          "color": "black",
          "line": {
           "color": "white",
           "width": 0
          },
          "size": 2
         },
         "opacity": 1,
         "type": "scatter3d",
         "x": [
          5,
          5,
          6,
          6,
          4.5,
          4.5,
          5.5,
          5.5
         ],
         "y": [
          0.9999999999999999,
          2,
          2,
          0.9999999999999999,
          0.9999999999999999,
          2,
          2,
          0.9999999999999999
         ],
         "z": [
          0,
          0,
          0,
          0,
          0.8660254037844388,
          0.8660254037844388,
          0.8660254037844388,
          0.8660254037844388
         ]
        },
        {
         "marker": {
          "color": "blue",
          "line": {
           "color": "white",
           "width": 0
          }
         },
         "opacity": 1,
         "type": "scatter3d",
         "x": [
          -0.4999999999999997
         ],
         "y": [
          1
         ],
         "z": [
          0.8660254037844388
         ]
        },
        {
         "marker": {
          "color": "red",
          "line": {
           "color": "white",
           "width": 0
          }
         },
         "opacity": 1,
         "type": "scatter3d",
         "x": [
          -0.4999999999999998
         ],
         "y": [
          6.123233995736766e-17
         ],
         "z": [
          0.8660254037844388
         ]
        },
        {
         "flatshading": true,
         "i": [
          7,
          0,
          0,
          0,
          4,
          4,
          6,
          1,
          4,
          0,
          3,
          6
         ],
         "j": [
          3,
          4,
          1,
          2,
          5,
          6,
          5,
          2,
          0,
          1,
          6,
          3
         ],
         "k": [
          0,
          7,
          2,
          3,
          6,
          7,
          1,
          6,
          5,
          5,
          7,
          2
         ],
         "opacity": 1,
         "type": "mesh3d",
         "x": [
          5,
          5,
          6,
          6,
          4.5,
          4.5,
          5.5,
          5.5
         ],
         "y": [
          0.9999999999999999,
          2,
          2,
          0.9999999999999999,
          0.9999999999999999,
          2,
          2,
          0.9999999999999999
         ],
         "z": [
          1,
          1,
          1,
          1,
          1.8660254037844388,
          1.8660254037844388,
          1.8660254037844388,
          1.8660254037844388
         ]
        },
        {
         "marker": {
          "color": "black",
          "line": {
           "color": "white",
           "width": 0
          },
          "size": 2
         },
         "opacity": 1,
         "type": "scatter3d",
         "x": [
          5,
          5,
          6,
          6,
          4.5,
          4.5,
          5.5,
          5.5
         ],
         "y": [
          0.9999999999999999,
          2,
          2,
          0.9999999999999999,
          0.9999999999999999,
          2,
          2,
          0.9999999999999999
         ],
         "z": [
          1,
          1,
          1,
          1,
          1.8660254037844388,
          1.8660254037844388,
          1.8660254037844388,
          1.8660254037844388
         ]
        },
        {
         "marker": {
          "color": "blue",
          "line": {
           "color": "white",
           "width": 0
          }
         },
         "opacity": 1,
         "type": "scatter3d",
         "x": [
          -0.4999999999999997
         ],
         "y": [
          1
         ],
         "z": [
          0.8660254037844388
         ]
        },
        {
         "marker": {
          "color": "red",
          "line": {
           "color": "white",
           "width": 0
          }
         },
         "opacity": 1,
         "type": "scatter3d",
         "x": [
          -0.4999999999999998
         ],
         "y": [
          6.123233995736766e-17
         ],
         "z": [
          0.8660254037844388
         ]
        },
        {
         "flatshading": true,
         "i": [
          7,
          0,
          0,
          0,
          4,
          4,
          6,
          1,
          4,
          0,
          3,
          6
         ],
         "j": [
          3,
          4,
          1,
          2,
          5,
          6,
          5,
          2,
          0,
          1,
          6,
          3
         ],
         "k": [
          0,
          7,
          2,
          3,
          6,
          7,
          1,
          6,
          5,
          5,
          7,
          2
         ],
         "opacity": 1,
         "type": "mesh3d",
         "x": [
          6,
          6,
          7,
          7,
          5.5,
          5.5,
          6.5,
          6.5
         ],
         "y": [
          0,
          1,
          1,
          0,
          6.123233995736766e-17,
          1,
          1,
          6.123233995736766e-17
         ],
         "z": [
          0,
          0,
          0,
          0,
          0.8660254037844388,
          0.8660254037844388,
          0.8660254037844388,
          0.8660254037844388
         ]
        },
        {
         "marker": {
          "color": "black",
          "line": {
           "color": "white",
           "width": 0
          },
          "size": 2
         },
         "opacity": 1,
         "type": "scatter3d",
         "x": [
          6,
          6,
          7,
          7,
          5.5,
          5.5,
          6.5,
          6.5
         ],
         "y": [
          0,
          1,
          1,
          0,
          6.123233995736766e-17,
          1,
          1,
          6.123233995736766e-17
         ],
         "z": [
          0,
          0,
          0,
          0,
          0.8660254037844388,
          0.8660254037844388,
          0.8660254037844388,
          0.8660254037844388
         ]
        },
        {
         "marker": {
          "color": "blue",
          "line": {
           "color": "white",
           "width": 0
          }
         },
         "opacity": 1,
         "type": "scatter3d",
         "x": [
          -0.4999999999999997
         ],
         "y": [
          1
         ],
         "z": [
          0.8660254037844388
         ]
        },
        {
         "marker": {
          "color": "red",
          "line": {
           "color": "white",
           "width": 0
          }
         },
         "opacity": 1,
         "type": "scatter3d",
         "x": [
          -0.4999999999999998
         ],
         "y": [
          6.123233995736766e-17
         ],
         "z": [
          0.8660254037844388
         ]
        },
        {
         "flatshading": true,
         "i": [
          7,
          0,
          0,
          0,
          4,
          4,
          6,
          1,
          4,
          0,
          3,
          6
         ],
         "j": [
          3,
          4,
          1,
          2,
          5,
          6,
          5,
          2,
          0,
          1,
          6,
          3
         ],
         "k": [
          0,
          7,
          2,
          3,
          6,
          7,
          1,
          6,
          5,
          5,
          7,
          2
         ],
         "opacity": 1,
         "type": "mesh3d",
         "x": [
          6,
          6,
          7,
          7,
          5.5,
          5.5,
          6.5,
          6.5
         ],
         "y": [
          0,
          1,
          1,
          0,
          6.123233995736766e-17,
          1,
          1,
          6.123233995736766e-17
         ],
         "z": [
          1,
          1,
          1,
          1,
          1.8660254037844388,
          1.8660254037844388,
          1.8660254037844388,
          1.8660254037844388
         ]
        },
        {
         "marker": {
          "color": "black",
          "line": {
           "color": "white",
           "width": 0
          },
          "size": 2
         },
         "opacity": 1,
         "type": "scatter3d",
         "x": [
          6,
          6,
          7,
          7,
          5.5,
          5.5,
          6.5,
          6.5
         ],
         "y": [
          0,
          1,
          1,
          0,
          6.123233995736766e-17,
          1,
          1,
          6.123233995736766e-17
         ],
         "z": [
          1,
          1,
          1,
          1,
          1.8660254037844388,
          1.8660254037844388,
          1.8660254037844388,
          1.8660254037844388
         ]
        },
        {
         "marker": {
          "color": "blue",
          "line": {
           "color": "white",
           "width": 0
          }
         },
         "opacity": 1,
         "type": "scatter3d",
         "x": [
          -0.4999999999999997
         ],
         "y": [
          1
         ],
         "z": [
          0.8660254037844388
         ]
        },
        {
         "marker": {
          "color": "red",
          "line": {
           "color": "white",
           "width": 0
          }
         },
         "opacity": 1,
         "type": "scatter3d",
         "x": [
          -0.4999999999999998
         ],
         "y": [
          6.123233995736766e-17
         ],
         "z": [
          0.8660254037844388
         ]
        },
        {
         "flatshading": true,
         "i": [
          7,
          0,
          0,
          0,
          4,
          4,
          6,
          1,
          4,
          0,
          3,
          6
         ],
         "j": [
          3,
          4,
          1,
          2,
          5,
          6,
          5,
          2,
          0,
          1,
          6,
          3
         ],
         "k": [
          0,
          7,
          2,
          3,
          6,
          7,
          1,
          6,
          5,
          5,
          7,
          2
         ],
         "opacity": 1,
         "type": "mesh3d",
         "x": [
          6,
          6,
          7,
          7,
          5.5,
          5.5,
          6.5,
          6.5
         ],
         "y": [
          0.9999999999999999,
          2,
          2,
          0.9999999999999999,
          0.9999999999999999,
          2,
          2,
          0.9999999999999999
         ],
         "z": [
          0,
          0,
          0,
          0,
          0.8660254037844388,
          0.8660254037844388,
          0.8660254037844388,
          0.8660254037844388
         ]
        },
        {
         "marker": {
          "color": "black",
          "line": {
           "color": "white",
           "width": 0
          },
          "size": 2
         },
         "opacity": 1,
         "type": "scatter3d",
         "x": [
          6,
          6,
          7,
          7,
          5.5,
          5.5,
          6.5,
          6.5
         ],
         "y": [
          0.9999999999999999,
          2,
          2,
          0.9999999999999999,
          0.9999999999999999,
          2,
          2,
          0.9999999999999999
         ],
         "z": [
          0,
          0,
          0,
          0,
          0.8660254037844388,
          0.8660254037844388,
          0.8660254037844388,
          0.8660254037844388
         ]
        },
        {
         "marker": {
          "color": "blue",
          "line": {
           "color": "white",
           "width": 0
          }
         },
         "opacity": 1,
         "type": "scatter3d",
         "x": [
          -0.4999999999999997
         ],
         "y": [
          1
         ],
         "z": [
          0.8660254037844388
         ]
        },
        {
         "marker": {
          "color": "red",
          "line": {
           "color": "white",
           "width": 0
          }
         },
         "opacity": 1,
         "type": "scatter3d",
         "x": [
          -0.4999999999999998
         ],
         "y": [
          6.123233995736766e-17
         ],
         "z": [
          0.8660254037844388
         ]
        },
        {
         "flatshading": true,
         "i": [
          7,
          0,
          0,
          0,
          4,
          4,
          6,
          1,
          4,
          0,
          3,
          6
         ],
         "j": [
          3,
          4,
          1,
          2,
          5,
          6,
          5,
          2,
          0,
          1,
          6,
          3
         ],
         "k": [
          0,
          7,
          2,
          3,
          6,
          7,
          1,
          6,
          5,
          5,
          7,
          2
         ],
         "opacity": 1,
         "type": "mesh3d",
         "x": [
          6,
          6,
          7,
          7,
          5.5,
          5.5,
          6.5,
          6.5
         ],
         "y": [
          0.9999999999999999,
          2,
          2,
          0.9999999999999999,
          0.9999999999999999,
          2,
          2,
          0.9999999999999999
         ],
         "z": [
          1,
          1,
          1,
          1,
          1.8660254037844388,
          1.8660254037844388,
          1.8660254037844388,
          1.8660254037844388
         ]
        },
        {
         "marker": {
          "color": "black",
          "line": {
           "color": "white",
           "width": 0
          },
          "size": 2
         },
         "opacity": 1,
         "type": "scatter3d",
         "x": [
          6,
          6,
          7,
          7,
          5.5,
          5.5,
          6.5,
          6.5
         ],
         "y": [
          0.9999999999999999,
          2,
          2,
          0.9999999999999999,
          0.9999999999999999,
          2,
          2,
          0.9999999999999999
         ],
         "z": [
          1,
          1,
          1,
          1,
          1.8660254037844388,
          1.8660254037844388,
          1.8660254037844388,
          1.8660254037844388
         ]
        },
        {
         "marker": {
          "color": "blue",
          "line": {
           "color": "white",
           "width": 0
          }
         },
         "opacity": 1,
         "type": "scatter3d",
         "x": [
          -0.4999999999999997
         ],
         "y": [
          1
         ],
         "z": [
          0.8660254037844388
         ]
        },
        {
         "marker": {
          "color": "red",
          "line": {
           "color": "white",
           "width": 0
          }
         },
         "opacity": 1,
         "type": "scatter3d",
         "x": [
          -0.4999999999999998
         ],
         "y": [
          6.123233995736766e-17
         ],
         "z": [
          0.8660254037844388
         ]
        },
        {
         "flatshading": true,
         "i": [
          7,
          0,
          0,
          0,
          4,
          4,
          6,
          1,
          4,
          0,
          3,
          6
         ],
         "j": [
          3,
          4,
          1,
          2,
          5,
          6,
          5,
          2,
          0,
          1,
          6,
          3
         ],
         "k": [
          0,
          7,
          2,
          3,
          6,
          7,
          1,
          6,
          5,
          5,
          7,
          2
         ],
         "opacity": 1,
         "type": "mesh3d",
         "x": [
          7,
          7,
          8,
          8,
          6.5,
          6.5,
          7.5,
          7.5
         ],
         "y": [
          0,
          1,
          1,
          0,
          6.123233995736766e-17,
          1,
          1,
          6.123233995736766e-17
         ],
         "z": [
          0,
          0,
          0,
          0,
          0.8660254037844388,
          0.8660254037844388,
          0.8660254037844388,
          0.8660254037844388
         ]
        },
        {
         "marker": {
          "color": "black",
          "line": {
           "color": "white",
           "width": 0
          },
          "size": 2
         },
         "opacity": 1,
         "type": "scatter3d",
         "x": [
          7,
          7,
          8,
          8,
          6.5,
          6.5,
          7.5,
          7.5
         ],
         "y": [
          0,
          1,
          1,
          0,
          6.123233995736766e-17,
          1,
          1,
          6.123233995736766e-17
         ],
         "z": [
          0,
          0,
          0,
          0,
          0.8660254037844388,
          0.8660254037844388,
          0.8660254037844388,
          0.8660254037844388
         ]
        },
        {
         "marker": {
          "color": "blue",
          "line": {
           "color": "white",
           "width": 0
          }
         },
         "opacity": 1,
         "type": "scatter3d",
         "x": [
          -0.4999999999999997
         ],
         "y": [
          1
         ],
         "z": [
          0.8660254037844388
         ]
        },
        {
         "marker": {
          "color": "red",
          "line": {
           "color": "white",
           "width": 0
          }
         },
         "opacity": 1,
         "type": "scatter3d",
         "x": [
          -0.4999999999999998
         ],
         "y": [
          6.123233995736766e-17
         ],
         "z": [
          0.8660254037844388
         ]
        },
        {
         "flatshading": true,
         "i": [
          7,
          0,
          0,
          0,
          4,
          4,
          6,
          1,
          4,
          0,
          3,
          6
         ],
         "j": [
          3,
          4,
          1,
          2,
          5,
          6,
          5,
          2,
          0,
          1,
          6,
          3
         ],
         "k": [
          0,
          7,
          2,
          3,
          6,
          7,
          1,
          6,
          5,
          5,
          7,
          2
         ],
         "opacity": 1,
         "type": "mesh3d",
         "x": [
          7,
          7,
          8,
          8,
          6.5,
          6.5,
          7.5,
          7.5
         ],
         "y": [
          0,
          1,
          1,
          0,
          6.123233995736766e-17,
          1,
          1,
          6.123233995736766e-17
         ],
         "z": [
          1,
          1,
          1,
          1,
          1.8660254037844388,
          1.8660254037844388,
          1.8660254037844388,
          1.8660254037844388
         ]
        },
        {
         "marker": {
          "color": "black",
          "line": {
           "color": "white",
           "width": 0
          },
          "size": 2
         },
         "opacity": 1,
         "type": "scatter3d",
         "x": [
          7,
          7,
          8,
          8,
          6.5,
          6.5,
          7.5,
          7.5
         ],
         "y": [
          0,
          1,
          1,
          0,
          6.123233995736766e-17,
          1,
          1,
          6.123233995736766e-17
         ],
         "z": [
          1,
          1,
          1,
          1,
          1.8660254037844388,
          1.8660254037844388,
          1.8660254037844388,
          1.8660254037844388
         ]
        },
        {
         "marker": {
          "color": "blue",
          "line": {
           "color": "white",
           "width": 0
          }
         },
         "opacity": 1,
         "type": "scatter3d",
         "x": [
          -0.4999999999999997
         ],
         "y": [
          1
         ],
         "z": [
          0.8660254037844388
         ]
        },
        {
         "marker": {
          "color": "red",
          "line": {
           "color": "white",
           "width": 0
          }
         },
         "opacity": 1,
         "type": "scatter3d",
         "x": [
          -0.4999999999999998
         ],
         "y": [
          6.123233995736766e-17
         ],
         "z": [
          0.8660254037844388
         ]
        },
        {
         "flatshading": true,
         "i": [
          7,
          0,
          0,
          0,
          4,
          4,
          6,
          1,
          4,
          0,
          3,
          6
         ],
         "j": [
          3,
          4,
          1,
          2,
          5,
          6,
          5,
          2,
          0,
          1,
          6,
          3
         ],
         "k": [
          0,
          7,
          2,
          3,
          6,
          7,
          1,
          6,
          5,
          5,
          7,
          2
         ],
         "opacity": 1,
         "type": "mesh3d",
         "x": [
          7,
          7,
          8,
          8,
          6.5,
          6.5,
          7.5,
          7.5
         ],
         "y": [
          0.9999999999999999,
          2,
          2,
          0.9999999999999999,
          0.9999999999999999,
          2,
          2,
          0.9999999999999999
         ],
         "z": [
          0,
          0,
          0,
          0,
          0.8660254037844388,
          0.8660254037844388,
          0.8660254037844388,
          0.8660254037844388
         ]
        },
        {
         "marker": {
          "color": "black",
          "line": {
           "color": "white",
           "width": 0
          },
          "size": 2
         },
         "opacity": 1,
         "type": "scatter3d",
         "x": [
          7,
          7,
          8,
          8,
          6.5,
          6.5,
          7.5,
          7.5
         ],
         "y": [
          0.9999999999999999,
          2,
          2,
          0.9999999999999999,
          0.9999999999999999,
          2,
          2,
          0.9999999999999999
         ],
         "z": [
          0,
          0,
          0,
          0,
          0.8660254037844388,
          0.8660254037844388,
          0.8660254037844388,
          0.8660254037844388
         ]
        },
        {
         "marker": {
          "color": "blue",
          "line": {
           "color": "white",
           "width": 0
          }
         },
         "opacity": 1,
         "type": "scatter3d",
         "x": [
          -0.4999999999999997
         ],
         "y": [
          1
         ],
         "z": [
          0.8660254037844388
         ]
        },
        {
         "marker": {
          "color": "red",
          "line": {
           "color": "white",
           "width": 0
          }
         },
         "opacity": 1,
         "type": "scatter3d",
         "x": [
          -0.4999999999999998
         ],
         "y": [
          6.123233995736766e-17
         ],
         "z": [
          0.8660254037844388
         ]
        },
        {
         "flatshading": true,
         "i": [
          7,
          0,
          0,
          0,
          4,
          4,
          6,
          1,
          4,
          0,
          3,
          6
         ],
         "j": [
          3,
          4,
          1,
          2,
          5,
          6,
          5,
          2,
          0,
          1,
          6,
          3
         ],
         "k": [
          0,
          7,
          2,
          3,
          6,
          7,
          1,
          6,
          5,
          5,
          7,
          2
         ],
         "opacity": 1,
         "type": "mesh3d",
         "x": [
          7,
          7,
          8,
          8,
          6.5,
          6.5,
          7.5,
          7.5
         ],
         "y": [
          0.9999999999999999,
          2,
          2,
          0.9999999999999999,
          0.9999999999999999,
          2,
          2,
          0.9999999999999999
         ],
         "z": [
          1,
          1,
          1,
          1,
          1.8660254037844388,
          1.8660254037844388,
          1.8660254037844388,
          1.8660254037844388
         ]
        },
        {
         "marker": {
          "color": "black",
          "line": {
           "color": "white",
           "width": 0
          },
          "size": 2
         },
         "opacity": 1,
         "type": "scatter3d",
         "x": [
          7,
          7,
          8,
          8,
          6.5,
          6.5,
          7.5,
          7.5
         ],
         "y": [
          0.9999999999999999,
          2,
          2,
          0.9999999999999999,
          0.9999999999999999,
          2,
          2,
          0.9999999999999999
         ],
         "z": [
          1,
          1,
          1,
          1,
          1.8660254037844388,
          1.8660254037844388,
          1.8660254037844388,
          1.8660254037844388
         ]
        },
        {
         "marker": {
          "color": "blue",
          "line": {
           "color": "white",
           "width": 0
          }
         },
         "opacity": 1,
         "type": "scatter3d",
         "x": [
          -0.4999999999999997
         ],
         "y": [
          1
         ],
         "z": [
          0.8660254037844388
         ]
        },
        {
         "marker": {
          "color": "red",
          "line": {
           "color": "white",
           "width": 0
          }
         },
         "opacity": 1,
         "type": "scatter3d",
         "x": [
          -0.4999999999999998
         ],
         "y": [
          6.123233995736766e-17
         ],
         "z": [
          0.8660254037844388
         ]
        },
        {
         "flatshading": true,
         "i": [
          7,
          0,
          0,
          0,
          4,
          4,
          6,
          1,
          4,
          0,
          3,
          6
         ],
         "j": [
          3,
          4,
          1,
          2,
          5,
          6,
          5,
          2,
          0,
          1,
          6,
          3
         ],
         "k": [
          0,
          7,
          2,
          3,
          6,
          7,
          1,
          6,
          5,
          5,
          7,
          2
         ],
         "opacity": 1,
         "type": "mesh3d",
         "x": [
          8,
          8,
          9,
          9,
          7.5,
          7.5,
          8.5,
          8.5
         ],
         "y": [
          0,
          1,
          1,
          0,
          6.123233995736766e-17,
          1,
          1,
          6.123233995736766e-17
         ],
         "z": [
          0,
          0,
          0,
          0,
          0.8660254037844388,
          0.8660254037844388,
          0.8660254037844388,
          0.8660254037844388
         ]
        },
        {
         "marker": {
          "color": "black",
          "line": {
           "color": "white",
           "width": 0
          },
          "size": 2
         },
         "opacity": 1,
         "type": "scatter3d",
         "x": [
          8,
          8,
          9,
          9,
          7.5,
          7.5,
          8.5,
          8.5
         ],
         "y": [
          0,
          1,
          1,
          0,
          6.123233995736766e-17,
          1,
          1,
          6.123233995736766e-17
         ],
         "z": [
          0,
          0,
          0,
          0,
          0.8660254037844388,
          0.8660254037844388,
          0.8660254037844388,
          0.8660254037844388
         ]
        },
        {
         "marker": {
          "color": "blue",
          "line": {
           "color": "white",
           "width": 0
          }
         },
         "opacity": 1,
         "type": "scatter3d",
         "x": [
          -0.4999999999999997
         ],
         "y": [
          1
         ],
         "z": [
          0.8660254037844388
         ]
        },
        {
         "marker": {
          "color": "red",
          "line": {
           "color": "white",
           "width": 0
          }
         },
         "opacity": 1,
         "type": "scatter3d",
         "x": [
          -0.4999999999999998
         ],
         "y": [
          6.123233995736766e-17
         ],
         "z": [
          0.8660254037844388
         ]
        },
        {
         "flatshading": true,
         "i": [
          7,
          0,
          0,
          0,
          4,
          4,
          6,
          1,
          4,
          0,
          3,
          6
         ],
         "j": [
          3,
          4,
          1,
          2,
          5,
          6,
          5,
          2,
          0,
          1,
          6,
          3
         ],
         "k": [
          0,
          7,
          2,
          3,
          6,
          7,
          1,
          6,
          5,
          5,
          7,
          2
         ],
         "opacity": 1,
         "type": "mesh3d",
         "x": [
          8,
          8,
          9,
          9,
          7.5,
          7.5,
          8.5,
          8.5
         ],
         "y": [
          0,
          1,
          1,
          0,
          6.123233995736766e-17,
          1,
          1,
          6.123233995736766e-17
         ],
         "z": [
          1,
          1,
          1,
          1,
          1.8660254037844388,
          1.8660254037844388,
          1.8660254037844388,
          1.8660254037844388
         ]
        },
        {
         "marker": {
          "color": "black",
          "line": {
           "color": "white",
           "width": 0
          },
          "size": 2
         },
         "opacity": 1,
         "type": "scatter3d",
         "x": [
          8,
          8,
          9,
          9,
          7.5,
          7.5,
          8.5,
          8.5
         ],
         "y": [
          0,
          1,
          1,
          0,
          6.123233995736766e-17,
          1,
          1,
          6.123233995736766e-17
         ],
         "z": [
          1,
          1,
          1,
          1,
          1.8660254037844388,
          1.8660254037844388,
          1.8660254037844388,
          1.8660254037844388
         ]
        },
        {
         "marker": {
          "color": "blue",
          "line": {
           "color": "white",
           "width": 0
          }
         },
         "opacity": 1,
         "type": "scatter3d",
         "x": [
          -0.4999999999999997
         ],
         "y": [
          1
         ],
         "z": [
          0.8660254037844388
         ]
        },
        {
         "marker": {
          "color": "red",
          "line": {
           "color": "white",
           "width": 0
          }
         },
         "opacity": 1,
         "type": "scatter3d",
         "x": [
          -0.4999999999999998
         ],
         "y": [
          6.123233995736766e-17
         ],
         "z": [
          0.8660254037844388
         ]
        },
        {
         "flatshading": true,
         "i": [
          7,
          0,
          0,
          0,
          4,
          4,
          6,
          1,
          4,
          0,
          3,
          6
         ],
         "j": [
          3,
          4,
          1,
          2,
          5,
          6,
          5,
          2,
          0,
          1,
          6,
          3
         ],
         "k": [
          0,
          7,
          2,
          3,
          6,
          7,
          1,
          6,
          5,
          5,
          7,
          2
         ],
         "opacity": 1,
         "type": "mesh3d",
         "x": [
          8,
          8,
          9,
          9,
          7.5,
          7.5,
          8.5,
          8.5
         ],
         "y": [
          0.9999999999999999,
          2,
          2,
          0.9999999999999999,
          0.9999999999999999,
          2,
          2,
          0.9999999999999999
         ],
         "z": [
          0,
          0,
          0,
          0,
          0.8660254037844388,
          0.8660254037844388,
          0.8660254037844388,
          0.8660254037844388
         ]
        },
        {
         "marker": {
          "color": "black",
          "line": {
           "color": "white",
           "width": 0
          },
          "size": 2
         },
         "opacity": 1,
         "type": "scatter3d",
         "x": [
          8,
          8,
          9,
          9,
          7.5,
          7.5,
          8.5,
          8.5
         ],
         "y": [
          0.9999999999999999,
          2,
          2,
          0.9999999999999999,
          0.9999999999999999,
          2,
          2,
          0.9999999999999999
         ],
         "z": [
          0,
          0,
          0,
          0,
          0.8660254037844388,
          0.8660254037844388,
          0.8660254037844388,
          0.8660254037844388
         ]
        },
        {
         "marker": {
          "color": "blue",
          "line": {
           "color": "white",
           "width": 0
          }
         },
         "opacity": 1,
         "type": "scatter3d",
         "x": [
          -0.4999999999999997
         ],
         "y": [
          1
         ],
         "z": [
          0.8660254037844388
         ]
        },
        {
         "marker": {
          "color": "red",
          "line": {
           "color": "white",
           "width": 0
          }
         },
         "opacity": 1,
         "type": "scatter3d",
         "x": [
          -0.4999999999999998
         ],
         "y": [
          6.123233995736766e-17
         ],
         "z": [
          0.8660254037844388
         ]
        },
        {
         "flatshading": true,
         "i": [
          7,
          0,
          0,
          0,
          4,
          4,
          6,
          1,
          4,
          0,
          3,
          6
         ],
         "j": [
          3,
          4,
          1,
          2,
          5,
          6,
          5,
          2,
          0,
          1,
          6,
          3
         ],
         "k": [
          0,
          7,
          2,
          3,
          6,
          7,
          1,
          6,
          5,
          5,
          7,
          2
         ],
         "opacity": 1,
         "type": "mesh3d",
         "x": [
          8,
          8,
          9,
          9,
          7.5,
          7.5,
          8.5,
          8.5
         ],
         "y": [
          0.9999999999999999,
          2,
          2,
          0.9999999999999999,
          0.9999999999999999,
          2,
          2,
          0.9999999999999999
         ],
         "z": [
          1,
          1,
          1,
          1,
          1.8660254037844388,
          1.8660254037844388,
          1.8660254037844388,
          1.8660254037844388
         ]
        },
        {
         "marker": {
          "color": "black",
          "line": {
           "color": "white",
           "width": 0
          },
          "size": 2
         },
         "opacity": 1,
         "type": "scatter3d",
         "x": [
          8,
          8,
          9,
          9,
          7.5,
          7.5,
          8.5,
          8.5
         ],
         "y": [
          0.9999999999999999,
          2,
          2,
          0.9999999999999999,
          0.9999999999999999,
          2,
          2,
          0.9999999999999999
         ],
         "z": [
          1,
          1,
          1,
          1,
          1.8660254037844388,
          1.8660254037844388,
          1.8660254037844388,
          1.8660254037844388
         ]
        },
        {
         "marker": {
          "color": "blue",
          "line": {
           "color": "white",
           "width": 0
          }
         },
         "opacity": 1,
         "type": "scatter3d",
         "x": [
          -0.4999999999999997
         ],
         "y": [
          1
         ],
         "z": [
          0.8660254037844388
         ]
        },
        {
         "marker": {
          "color": "red",
          "line": {
           "color": "white",
           "width": 0
          }
         },
         "opacity": 1,
         "type": "scatter3d",
         "x": [
          -0.4999999999999998
         ],
         "y": [
          6.123233995736766e-17
         ],
         "z": [
          0.8660254037844388
         ]
        },
        {
         "flatshading": true,
         "i": [
          7,
          0,
          0,
          0,
          4,
          4,
          6,
          1,
          4,
          0,
          3,
          6
         ],
         "j": [
          3,
          4,
          1,
          2,
          5,
          6,
          5,
          2,
          0,
          1,
          6,
          3
         ],
         "k": [
          0,
          7,
          2,
          3,
          6,
          7,
          1,
          6,
          5,
          5,
          7,
          2
         ],
         "opacity": 1,
         "type": "mesh3d",
         "x": [
          9,
          9,
          10,
          10,
          8.5,
          8.5,
          9.5,
          9.5
         ],
         "y": [
          0,
          1,
          1,
          0,
          6.123233995736766e-17,
          1,
          1,
          6.123233995736766e-17
         ],
         "z": [
          0,
          0,
          0,
          0,
          0.8660254037844388,
          0.8660254037844388,
          0.8660254037844388,
          0.8660254037844388
         ]
        },
        {
         "marker": {
          "color": "black",
          "line": {
           "color": "white",
           "width": 0
          },
          "size": 2
         },
         "opacity": 1,
         "type": "scatter3d",
         "x": [
          9,
          9,
          10,
          10,
          8.5,
          8.5,
          9.5,
          9.5
         ],
         "y": [
          0,
          1,
          1,
          0,
          6.123233995736766e-17,
          1,
          1,
          6.123233995736766e-17
         ],
         "z": [
          0,
          0,
          0,
          0,
          0.8660254037844388,
          0.8660254037844388,
          0.8660254037844388,
          0.8660254037844388
         ]
        },
        {
         "marker": {
          "color": "blue",
          "line": {
           "color": "white",
           "width": 0
          }
         },
         "opacity": 1,
         "type": "scatter3d",
         "x": [
          -0.4999999999999997
         ],
         "y": [
          1
         ],
         "z": [
          0.8660254037844388
         ]
        },
        {
         "marker": {
          "color": "red",
          "line": {
           "color": "white",
           "width": 0
          }
         },
         "opacity": 1,
         "type": "scatter3d",
         "x": [
          -0.4999999999999998
         ],
         "y": [
          6.123233995736766e-17
         ],
         "z": [
          0.8660254037844388
         ]
        },
        {
         "flatshading": true,
         "i": [
          7,
          0,
          0,
          0,
          4,
          4,
          6,
          1,
          4,
          0,
          3,
          6
         ],
         "j": [
          3,
          4,
          1,
          2,
          5,
          6,
          5,
          2,
          0,
          1,
          6,
          3
         ],
         "k": [
          0,
          7,
          2,
          3,
          6,
          7,
          1,
          6,
          5,
          5,
          7,
          2
         ],
         "opacity": 1,
         "type": "mesh3d",
         "x": [
          9,
          9,
          10,
          10,
          8.5,
          8.5,
          9.5,
          9.5
         ],
         "y": [
          0,
          1,
          1,
          0,
          6.123233995736766e-17,
          1,
          1,
          6.123233995736766e-17
         ],
         "z": [
          1,
          1,
          1,
          1,
          1.8660254037844388,
          1.8660254037844388,
          1.8660254037844388,
          1.8660254037844388
         ]
        },
        {
         "marker": {
          "color": "black",
          "line": {
           "color": "white",
           "width": 0
          },
          "size": 2
         },
         "opacity": 1,
         "type": "scatter3d",
         "x": [
          9,
          9,
          10,
          10,
          8.5,
          8.5,
          9.5,
          9.5
         ],
         "y": [
          0,
          1,
          1,
          0,
          6.123233995736766e-17,
          1,
          1,
          6.123233995736766e-17
         ],
         "z": [
          1,
          1,
          1,
          1,
          1.8660254037844388,
          1.8660254037844388,
          1.8660254037844388,
          1.8660254037844388
         ]
        },
        {
         "marker": {
          "color": "blue",
          "line": {
           "color": "white",
           "width": 0
          }
         },
         "opacity": 1,
         "type": "scatter3d",
         "x": [
          -0.4999999999999997
         ],
         "y": [
          1
         ],
         "z": [
          0.8660254037844388
         ]
        },
        {
         "marker": {
          "color": "red",
          "line": {
           "color": "white",
           "width": 0
          }
         },
         "opacity": 1,
         "type": "scatter3d",
         "x": [
          -0.4999999999999998
         ],
         "y": [
          6.123233995736766e-17
         ],
         "z": [
          0.8660254037844388
         ]
        },
        {
         "flatshading": true,
         "i": [
          7,
          0,
          0,
          0,
          4,
          4,
          6,
          1,
          4,
          0,
          3,
          6
         ],
         "j": [
          3,
          4,
          1,
          2,
          5,
          6,
          5,
          2,
          0,
          1,
          6,
          3
         ],
         "k": [
          0,
          7,
          2,
          3,
          6,
          7,
          1,
          6,
          5,
          5,
          7,
          2
         ],
         "opacity": 1,
         "type": "mesh3d",
         "x": [
          9,
          9,
          10,
          10,
          8.5,
          8.5,
          9.5,
          9.5
         ],
         "y": [
          0.9999999999999999,
          2,
          2,
          0.9999999999999999,
          0.9999999999999999,
          2,
          2,
          0.9999999999999999
         ],
         "z": [
          0,
          0,
          0,
          0,
          0.8660254037844388,
          0.8660254037844388,
          0.8660254037844388,
          0.8660254037844388
         ]
        },
        {
         "marker": {
          "color": "black",
          "line": {
           "color": "white",
           "width": 0
          },
          "size": 2
         },
         "opacity": 1,
         "type": "scatter3d",
         "x": [
          9,
          9,
          10,
          10,
          8.5,
          8.5,
          9.5,
          9.5
         ],
         "y": [
          0.9999999999999999,
          2,
          2,
          0.9999999999999999,
          0.9999999999999999,
          2,
          2,
          0.9999999999999999
         ],
         "z": [
          0,
          0,
          0,
          0,
          0.8660254037844388,
          0.8660254037844388,
          0.8660254037844388,
          0.8660254037844388
         ]
        },
        {
         "marker": {
          "color": "blue",
          "line": {
           "color": "white",
           "width": 0
          }
         },
         "opacity": 1,
         "type": "scatter3d",
         "x": [
          -0.4999999999999997
         ],
         "y": [
          1
         ],
         "z": [
          0.8660254037844388
         ]
        },
        {
         "marker": {
          "color": "red",
          "line": {
           "color": "white",
           "width": 0
          }
         },
         "opacity": 1,
         "type": "scatter3d",
         "x": [
          -0.4999999999999998
         ],
         "y": [
          6.123233995736766e-17
         ],
         "z": [
          0.8660254037844388
         ]
        },
        {
         "flatshading": true,
         "i": [
          7,
          0,
          0,
          0,
          4,
          4,
          6,
          1,
          4,
          0,
          3,
          6
         ],
         "j": [
          3,
          4,
          1,
          2,
          5,
          6,
          5,
          2,
          0,
          1,
          6,
          3
         ],
         "k": [
          0,
          7,
          2,
          3,
          6,
          7,
          1,
          6,
          5,
          5,
          7,
          2
         ],
         "opacity": 1,
         "type": "mesh3d",
         "x": [
          9,
          9,
          10,
          10,
          8.5,
          8.5,
          9.5,
          9.5
         ],
         "y": [
          0.9999999999999999,
          2,
          2,
          0.9999999999999999,
          0.9999999999999999,
          2,
          2,
          0.9999999999999999
         ],
         "z": [
          1,
          1,
          1,
          1,
          1.8660254037844388,
          1.8660254037844388,
          1.8660254037844388,
          1.8660254037844388
         ]
        },
        {
         "marker": {
          "color": "black",
          "line": {
           "color": "white",
           "width": 0
          },
          "size": 2
         },
         "opacity": 1,
         "type": "scatter3d",
         "x": [
          9,
          9,
          10,
          10,
          8.5,
          8.5,
          9.5,
          9.5
         ],
         "y": [
          0.9999999999999999,
          2,
          2,
          0.9999999999999999,
          0.9999999999999999,
          2,
          2,
          0.9999999999999999
         ],
         "z": [
          1,
          1,
          1,
          1,
          1.8660254037844388,
          1.8660254037844388,
          1.8660254037844388,
          1.8660254037844388
         ]
        },
        {
         "marker": {
          "color": "blue",
          "line": {
           "color": "white",
           "width": 0
          }
         },
         "opacity": 1,
         "type": "scatter3d",
         "x": [
          -0.4999999999999997
         ],
         "y": [
          1
         ],
         "z": [
          0.8660254037844388
         ]
        },
        {
         "marker": {
          "color": "red",
          "line": {
           "color": "white",
           "width": 0
          }
         },
         "opacity": 1,
         "type": "scatter3d",
         "x": [
          -0.4999999999999998
         ],
         "y": [
          6.123233995736766e-17
         ],
         "z": [
          0.8660254037844388
         ]
        }
       ],
       "layout": {
        "scene": {
         "aspectmode": "data"
        },
        "template": {
         "data": {
          "bar": [
           {
            "error_x": {
             "color": "#2a3f5f"
            },
            "error_y": {
             "color": "#2a3f5f"
            },
            "marker": {
             "line": {
              "color": "#E5ECF6",
              "width": 0.5
             },
             "pattern": {
              "fillmode": "overlay",
              "size": 10,
              "solidity": 0.2
             }
            },
            "type": "bar"
           }
          ],
          "barpolar": [
           {
            "marker": {
             "line": {
              "color": "#E5ECF6",
              "width": 0.5
             },
             "pattern": {
              "fillmode": "overlay",
              "size": 10,
              "solidity": 0.2
             }
            },
            "type": "barpolar"
           }
          ],
          "carpet": [
           {
            "aaxis": {
             "endlinecolor": "#2a3f5f",
             "gridcolor": "white",
             "linecolor": "white",
             "minorgridcolor": "white",
             "startlinecolor": "#2a3f5f"
            },
            "baxis": {
             "endlinecolor": "#2a3f5f",
             "gridcolor": "white",
             "linecolor": "white",
             "minorgridcolor": "white",
             "startlinecolor": "#2a3f5f"
            },
            "type": "carpet"
           }
          ],
          "choropleth": [
           {
            "colorbar": {
             "outlinewidth": 0,
             "ticks": ""
            },
            "type": "choropleth"
           }
          ],
          "contour": [
           {
            "colorbar": {
             "outlinewidth": 0,
             "ticks": ""
            },
            "colorscale": [
             [
              0,
              "#0d0887"
             ],
             [
              0.1111111111111111,
              "#46039f"
             ],
             [
              0.2222222222222222,
              "#7201a8"
             ],
             [
              0.3333333333333333,
              "#9c179e"
             ],
             [
              0.4444444444444444,
              "#bd3786"
             ],
             [
              0.5555555555555556,
              "#d8576b"
             ],
             [
              0.6666666666666666,
              "#ed7953"
             ],
             [
              0.7777777777777778,
              "#fb9f3a"
             ],
             [
              0.8888888888888888,
              "#fdca26"
             ],
             [
              1,
              "#f0f921"
             ]
            ],
            "type": "contour"
           }
          ],
          "contourcarpet": [
           {
            "colorbar": {
             "outlinewidth": 0,
             "ticks": ""
            },
            "type": "contourcarpet"
           }
          ],
          "heatmap": [
           {
            "colorbar": {
             "outlinewidth": 0,
             "ticks": ""
            },
            "colorscale": [
             [
              0,
              "#0d0887"
             ],
             [
              0.1111111111111111,
              "#46039f"
             ],
             [
              0.2222222222222222,
              "#7201a8"
             ],
             [
              0.3333333333333333,
              "#9c179e"
             ],
             [
              0.4444444444444444,
              "#bd3786"
             ],
             [
              0.5555555555555556,
              "#d8576b"
             ],
             [
              0.6666666666666666,
              "#ed7953"
             ],
             [
              0.7777777777777778,
              "#fb9f3a"
             ],
             [
              0.8888888888888888,
              "#fdca26"
             ],
             [
              1,
              "#f0f921"
             ]
            ],
            "type": "heatmap"
           }
          ],
          "heatmapgl": [
           {
            "colorbar": {
             "outlinewidth": 0,
             "ticks": ""
            },
            "colorscale": [
             [
              0,
              "#0d0887"
             ],
             [
              0.1111111111111111,
              "#46039f"
             ],
             [
              0.2222222222222222,
              "#7201a8"
             ],
             [
              0.3333333333333333,
              "#9c179e"
             ],
             [
              0.4444444444444444,
              "#bd3786"
             ],
             [
              0.5555555555555556,
              "#d8576b"
             ],
             [
              0.6666666666666666,
              "#ed7953"
             ],
             [
              0.7777777777777778,
              "#fb9f3a"
             ],
             [
              0.8888888888888888,
              "#fdca26"
             ],
             [
              1,
              "#f0f921"
             ]
            ],
            "type": "heatmapgl"
           }
          ],
          "histogram": [
           {
            "marker": {
             "pattern": {
              "fillmode": "overlay",
              "size": 10,
              "solidity": 0.2
             }
            },
            "type": "histogram"
           }
          ],
          "histogram2d": [
           {
            "colorbar": {
             "outlinewidth": 0,
             "ticks": ""
            },
            "colorscale": [
             [
              0,
              "#0d0887"
             ],
             [
              0.1111111111111111,
              "#46039f"
             ],
             [
              0.2222222222222222,
              "#7201a8"
             ],
             [
              0.3333333333333333,
              "#9c179e"
             ],
             [
              0.4444444444444444,
              "#bd3786"
             ],
             [
              0.5555555555555556,
              "#d8576b"
             ],
             [
              0.6666666666666666,
              "#ed7953"
             ],
             [
              0.7777777777777778,
              "#fb9f3a"
             ],
             [
              0.8888888888888888,
              "#fdca26"
             ],
             [
              1,
              "#f0f921"
             ]
            ],
            "type": "histogram2d"
           }
          ],
          "histogram2dcontour": [
           {
            "colorbar": {
             "outlinewidth": 0,
             "ticks": ""
            },
            "colorscale": [
             [
              0,
              "#0d0887"
             ],
             [
              0.1111111111111111,
              "#46039f"
             ],
             [
              0.2222222222222222,
              "#7201a8"
             ],
             [
              0.3333333333333333,
              "#9c179e"
             ],
             [
              0.4444444444444444,
              "#bd3786"
             ],
             [
              0.5555555555555556,
              "#d8576b"
             ],
             [
              0.6666666666666666,
              "#ed7953"
             ],
             [
              0.7777777777777778,
              "#fb9f3a"
             ],
             [
              0.8888888888888888,
              "#fdca26"
             ],
             [
              1,
              "#f0f921"
             ]
            ],
            "type": "histogram2dcontour"
           }
          ],
          "mesh3d": [
           {
            "colorbar": {
             "outlinewidth": 0,
             "ticks": ""
            },
            "type": "mesh3d"
           }
          ],
          "parcoords": [
           {
            "line": {
             "colorbar": {
              "outlinewidth": 0,
              "ticks": ""
             }
            },
            "type": "parcoords"
           }
          ],
          "pie": [
           {
            "automargin": true,
            "type": "pie"
           }
          ],
          "scatter": [
           {
            "fillpattern": {
             "fillmode": "overlay",
             "size": 10,
             "solidity": 0.2
            },
            "type": "scatter"
           }
          ],
          "scatter3d": [
           {
            "line": {
             "colorbar": {
              "outlinewidth": 0,
              "ticks": ""
             }
            },
            "marker": {
             "colorbar": {
              "outlinewidth": 0,
              "ticks": ""
             }
            },
            "type": "scatter3d"
           }
          ],
          "scattercarpet": [
           {
            "marker": {
             "colorbar": {
              "outlinewidth": 0,
              "ticks": ""
             }
            },
            "type": "scattercarpet"
           }
          ],
          "scattergeo": [
           {
            "marker": {
             "colorbar": {
              "outlinewidth": 0,
              "ticks": ""
             }
            },
            "type": "scattergeo"
           }
          ],
          "scattergl": [
           {
            "marker": {
             "colorbar": {
              "outlinewidth": 0,
              "ticks": ""
             }
            },
            "type": "scattergl"
           }
          ],
          "scattermapbox": [
           {
            "marker": {
             "colorbar": {
              "outlinewidth": 0,
              "ticks": ""
             }
            },
            "type": "scattermapbox"
           }
          ],
          "scatterpolar": [
           {
            "marker": {
             "colorbar": {
              "outlinewidth": 0,
              "ticks": ""
             }
            },
            "type": "scatterpolar"
           }
          ],
          "scatterpolargl": [
           {
            "marker": {
             "colorbar": {
              "outlinewidth": 0,
              "ticks": ""
             }
            },
            "type": "scatterpolargl"
           }
          ],
          "scatterternary": [
           {
            "marker": {
             "colorbar": {
              "outlinewidth": 0,
              "ticks": ""
             }
            },
            "type": "scatterternary"
           }
          ],
          "surface": [
           {
            "colorbar": {
             "outlinewidth": 0,
             "ticks": ""
            },
            "colorscale": [
             [
              0,
              "#0d0887"
             ],
             [
              0.1111111111111111,
              "#46039f"
             ],
             [
              0.2222222222222222,
              "#7201a8"
             ],
             [
              0.3333333333333333,
              "#9c179e"
             ],
             [
              0.4444444444444444,
              "#bd3786"
             ],
             [
              0.5555555555555556,
              "#d8576b"
             ],
             [
              0.6666666666666666,
              "#ed7953"
             ],
             [
              0.7777777777777778,
              "#fb9f3a"
             ],
             [
              0.8888888888888888,
              "#fdca26"
             ],
             [
              1,
              "#f0f921"
             ]
            ],
            "type": "surface"
           }
          ],
          "table": [
           {
            "cells": {
             "fill": {
              "color": "#EBF0F8"
             },
             "line": {
              "color": "white"
             }
            },
            "header": {
             "fill": {
              "color": "#C8D4E3"
             },
             "line": {
              "color": "white"
             }
            },
            "type": "table"
           }
          ]
         },
         "layout": {
          "annotationdefaults": {
           "arrowcolor": "#2a3f5f",
           "arrowhead": 0,
           "arrowwidth": 1
          },
          "autotypenumbers": "strict",
          "coloraxis": {
           "colorbar": {
            "outlinewidth": 0,
            "ticks": ""
           }
          },
          "colorscale": {
           "diverging": [
            [
             0,
             "#8e0152"
            ],
            [
             0.1,
             "#c51b7d"
            ],
            [
             0.2,
             "#de77ae"
            ],
            [
             0.3,
             "#f1b6da"
            ],
            [
             0.4,
             "#fde0ef"
            ],
            [
             0.5,
             "#f7f7f7"
            ],
            [
             0.6,
             "#e6f5d0"
            ],
            [
             0.7,
             "#b8e186"
            ],
            [
             0.8,
             "#7fbc41"
            ],
            [
             0.9,
             "#4d9221"
            ],
            [
             1,
             "#276419"
            ]
           ],
           "sequential": [
            [
             0,
             "#0d0887"
            ],
            [
             0.1111111111111111,
             "#46039f"
            ],
            [
             0.2222222222222222,
             "#7201a8"
            ],
            [
             0.3333333333333333,
             "#9c179e"
            ],
            [
             0.4444444444444444,
             "#bd3786"
            ],
            [
             0.5555555555555556,
             "#d8576b"
            ],
            [
             0.6666666666666666,
             "#ed7953"
            ],
            [
             0.7777777777777778,
             "#fb9f3a"
            ],
            [
             0.8888888888888888,
             "#fdca26"
            ],
            [
             1,
             "#f0f921"
            ]
           ],
           "sequentialminus": [
            [
             0,
             "#0d0887"
            ],
            [
             0.1111111111111111,
             "#46039f"
            ],
            [
             0.2222222222222222,
             "#7201a8"
            ],
            [
             0.3333333333333333,
             "#9c179e"
            ],
            [
             0.4444444444444444,
             "#bd3786"
            ],
            [
             0.5555555555555556,
             "#d8576b"
            ],
            [
             0.6666666666666666,
             "#ed7953"
            ],
            [
             0.7777777777777778,
             "#fb9f3a"
            ],
            [
             0.8888888888888888,
             "#fdca26"
            ],
            [
             1,
             "#f0f921"
            ]
           ]
          },
          "colorway": [
           "#636efa",
           "#EF553B",
           "#00cc96",
           "#ab63fa",
           "#FFA15A",
           "#19d3f3",
           "#FF6692",
           "#B6E880",
           "#FF97FF",
           "#FECB52"
          ],
          "font": {
           "color": "#2a3f5f"
          },
          "geo": {
           "bgcolor": "white",
           "lakecolor": "white",
           "landcolor": "#E5ECF6",
           "showlakes": true,
           "showland": true,
           "subunitcolor": "white"
          },
          "hoverlabel": {
           "align": "left"
          },
          "hovermode": "closest",
          "mapbox": {
           "style": "light"
          },
          "paper_bgcolor": "white",
          "plot_bgcolor": "#E5ECF6",
          "polar": {
           "angularaxis": {
            "gridcolor": "white",
            "linecolor": "white",
            "ticks": ""
           },
           "bgcolor": "#E5ECF6",
           "radialaxis": {
            "gridcolor": "white",
            "linecolor": "white",
            "ticks": ""
           }
          },
          "scene": {
           "xaxis": {
            "backgroundcolor": "#E5ECF6",
            "gridcolor": "white",
            "gridwidth": 2,
            "linecolor": "white",
            "showbackground": true,
            "ticks": "",
            "zerolinecolor": "white"
           },
           "yaxis": {
            "backgroundcolor": "#E5ECF6",
            "gridcolor": "white",
            "gridwidth": 2,
            "linecolor": "white",
            "showbackground": true,
            "ticks": "",
            "zerolinecolor": "white"
           },
           "zaxis": {
            "backgroundcolor": "#E5ECF6",
            "gridcolor": "white",
            "gridwidth": 2,
            "linecolor": "white",
            "showbackground": true,
            "ticks": "",
            "zerolinecolor": "white"
           }
          },
          "shapedefaults": {
           "line": {
            "color": "#2a3f5f"
           }
          },
          "ternary": {
           "aaxis": {
            "gridcolor": "white",
            "linecolor": "white",
            "ticks": ""
           },
           "baxis": {
            "gridcolor": "white",
            "linecolor": "white",
            "ticks": ""
           },
           "bgcolor": "#E5ECF6",
           "caxis": {
            "gridcolor": "white",
            "linecolor": "white",
            "ticks": ""
           }
          },
          "title": {
           "x": 0.05
          },
          "xaxis": {
           "automargin": true,
           "gridcolor": "white",
           "linecolor": "white",
           "ticks": "",
           "title": {
            "standoff": 15
           },
           "zerolinecolor": "white",
           "zerolinewidth": 2
          },
          "yaxis": {
           "automargin": true,
           "gridcolor": "white",
           "linecolor": "white",
           "ticks": "",
           "title": {
            "standoff": 15
           },
           "zerolinecolor": "white",
           "zerolinewidth": 2
          }
         }
        }
       }
      },
      "text/html": [
       "<div>                            <div id=\"5fc0c456-b0b1-4e66-b6fc-b84ede583c0e\" class=\"plotly-graph-div\" style=\"height:525px; width:100%;\"></div>            <script type=\"text/javascript\">                require([\"plotly\"], function(Plotly) {                    window.PLOTLYENV=window.PLOTLYENV || {};                                    if (document.getElementById(\"5fc0c456-b0b1-4e66-b6fc-b84ede583c0e\")) {                    Plotly.newPlot(                        \"5fc0c456-b0b1-4e66-b6fc-b84ede583c0e\",                        [{\"flatshading\":true,\"i\":[7,0,0,0,4,4,6,1,4,0,3,6],\"j\":[3,4,1,2,5,6,5,2,0,1,6,3],\"k\":[0,7,2,3,6,7,1,6,5,5,7,2],\"opacity\":1,\"x\":[0.0,6.123233995736766e-17,1.0,1.0,-0.4999999999999998,-0.4999999999999997,0.5000000000000002,0.5000000000000002],\"y\":[0.0,1.0,1.0,0.0,6.123233995736766e-17,1.0,1.0,6.123233995736766e-17],\"z\":[0,0,0,0,0.8660254037844388,0.8660254037844388,0.8660254037844388,0.8660254037844388],\"type\":\"mesh3d\"},{\"marker\":{\"color\":\"black\",\"line\":{\"color\":\"white\",\"width\":0},\"size\":2},\"opacity\":1,\"x\":[0.0,6.123233995736766e-17,1.0,1.0,-0.4999999999999998,-0.4999999999999997,0.5000000000000002,0.5000000000000002],\"y\":[0.0,1.0,1.0,0.0,6.123233995736766e-17,1.0,1.0,6.123233995736766e-17],\"z\":[0,0,0,0,0.8660254037844388,0.8660254037844388,0.8660254037844388,0.8660254037844388],\"type\":\"scatter3d\"},{\"marker\":{\"color\":\"blue\",\"line\":{\"color\":\"white\",\"width\":0}},\"opacity\":1,\"x\":[-0.4999999999999997],\"y\":[1.0],\"z\":[0.8660254037844388],\"type\":\"scatter3d\"},{\"marker\":{\"color\":\"red\",\"line\":{\"color\":\"white\",\"width\":0}},\"opacity\":1,\"x\":[-0.4999999999999998],\"y\":[6.123233995736766e-17],\"z\":[0.8660254037844388],\"type\":\"scatter3d\"},{\"flatshading\":true,\"i\":[7,0,0,0,4,4,6,1,4,0,3,6],\"j\":[3,4,1,2,5,6,5,2,0,1,6,3],\"k\":[0,7,2,3,6,7,1,6,5,5,7,2],\"opacity\":1,\"x\":[0.0,6.123233995736766e-17,1.0,1.0,-0.4999999999999998,-0.4999999999999997,0.5000000000000002,0.5000000000000002],\"y\":[0.0,1.0,1.0,0.0,6.123233995736766e-17,1.0,1.0,6.123233995736766e-17],\"z\":[1,1,1,1,1.8660254037844388,1.8660254037844388,1.8660254037844388,1.8660254037844388],\"type\":\"mesh3d\"},{\"marker\":{\"color\":\"black\",\"line\":{\"color\":\"white\",\"width\":0},\"size\":2},\"opacity\":1,\"x\":[0.0,6.123233995736766e-17,1.0,1.0,-0.4999999999999998,-0.4999999999999997,0.5000000000000002,0.5000000000000002],\"y\":[0.0,1.0,1.0,0.0,6.123233995736766e-17,1.0,1.0,6.123233995736766e-17],\"z\":[1,1,1,1,1.8660254037844388,1.8660254037844388,1.8660254037844388,1.8660254037844388],\"type\":\"scatter3d\"},{\"marker\":{\"color\":\"blue\",\"line\":{\"color\":\"white\",\"width\":0}},\"opacity\":1,\"x\":[-0.4999999999999997],\"y\":[1.0],\"z\":[0.8660254037844388],\"type\":\"scatter3d\"},{\"marker\":{\"color\":\"red\",\"line\":{\"color\":\"white\",\"width\":0}},\"opacity\":1,\"x\":[-0.4999999999999998],\"y\":[6.123233995736766e-17],\"z\":[0.8660254037844388],\"type\":\"scatter3d\"},{\"flatshading\":true,\"i\":[7,0,0,0,4,4,6,1,4,0,3,6],\"j\":[3,4,1,2,5,6,5,2,0,1,6,3],\"k\":[0,7,2,3,6,7,1,6,5,5,7,2],\"opacity\":1,\"x\":[5.551115123125783e-17,1.1102230246251565e-16,1.0,1.0,-0.4999999999999998,-0.49999999999999967,0.5000000000000002,0.5000000000000002],\"y\":[0.9999999999999999,2.0,2.0,0.9999999999999999,0.9999999999999999,2.0,2.0,0.9999999999999999],\"z\":[0,0,0,0,0.8660254037844388,0.8660254037844388,0.8660254037844388,0.8660254037844388],\"type\":\"mesh3d\"},{\"marker\":{\"color\":\"black\",\"line\":{\"color\":\"white\",\"width\":0},\"size\":2},\"opacity\":1,\"x\":[5.551115123125783e-17,1.1102230246251565e-16,1.0,1.0,-0.4999999999999998,-0.49999999999999967,0.5000000000000002,0.5000000000000002],\"y\":[0.9999999999999999,2.0,2.0,0.9999999999999999,0.9999999999999999,2.0,2.0,0.9999999999999999],\"z\":[0,0,0,0,0.8660254037844388,0.8660254037844388,0.8660254037844388,0.8660254037844388],\"type\":\"scatter3d\"},{\"marker\":{\"color\":\"blue\",\"line\":{\"color\":\"white\",\"width\":0}},\"opacity\":1,\"x\":[-0.4999999999999997],\"y\":[1.0],\"z\":[0.8660254037844388],\"type\":\"scatter3d\"},{\"marker\":{\"color\":\"red\",\"line\":{\"color\":\"white\",\"width\":0}},\"opacity\":1,\"x\":[-0.4999999999999998],\"y\":[6.123233995736766e-17],\"z\":[0.8660254037844388],\"type\":\"scatter3d\"},{\"flatshading\":true,\"i\":[7,0,0,0,4,4,6,1,4,0,3,6],\"j\":[3,4,1,2,5,6,5,2,0,1,6,3],\"k\":[0,7,2,3,6,7,1,6,5,5,7,2],\"opacity\":1,\"x\":[5.551115123125783e-17,1.1102230246251565e-16,1.0,1.0,-0.4999999999999998,-0.49999999999999967,0.5000000000000002,0.5000000000000002],\"y\":[0.9999999999999999,2.0,2.0,0.9999999999999999,0.9999999999999999,2.0,2.0,0.9999999999999999],\"z\":[1,1,1,1,1.8660254037844388,1.8660254037844388,1.8660254037844388,1.8660254037844388],\"type\":\"mesh3d\"},{\"marker\":{\"color\":\"black\",\"line\":{\"color\":\"white\",\"width\":0},\"size\":2},\"opacity\":1,\"x\":[5.551115123125783e-17,1.1102230246251565e-16,1.0,1.0,-0.4999999999999998,-0.49999999999999967,0.5000000000000002,0.5000000000000002],\"y\":[0.9999999999999999,2.0,2.0,0.9999999999999999,0.9999999999999999,2.0,2.0,0.9999999999999999],\"z\":[1,1,1,1,1.8660254037844388,1.8660254037844388,1.8660254037844388,1.8660254037844388],\"type\":\"scatter3d\"},{\"marker\":{\"color\":\"blue\",\"line\":{\"color\":\"white\",\"width\":0}},\"opacity\":1,\"x\":[-0.4999999999999997],\"y\":[1.0],\"z\":[0.8660254037844388],\"type\":\"scatter3d\"},{\"marker\":{\"color\":\"red\",\"line\":{\"color\":\"white\",\"width\":0}},\"opacity\":1,\"x\":[-0.4999999999999998],\"y\":[6.123233995736766e-17],\"z\":[0.8660254037844388],\"type\":\"scatter3d\"},{\"flatshading\":true,\"i\":[7,0,0,0,4,4,6,1,4,0,3,6],\"j\":[3,4,1,2,5,6,5,2,0,1,6,3],\"k\":[0,7,2,3,6,7,1,6,5,5,7,2],\"opacity\":1,\"x\":[1.0,1.0,2.0,2.0,0.5000000000000002,0.5000000000000002,1.5000000000000002,1.5000000000000002],\"y\":[0.0,1.0,1.0,0.0,6.123233995736766e-17,1.0,1.0,6.123233995736766e-17],\"z\":[0,0,0,0,0.8660254037844388,0.8660254037844388,0.8660254037844388,0.8660254037844388],\"type\":\"mesh3d\"},{\"marker\":{\"color\":\"black\",\"line\":{\"color\":\"white\",\"width\":0},\"size\":2},\"opacity\":1,\"x\":[1.0,1.0,2.0,2.0,0.5000000000000002,0.5000000000000002,1.5000000000000002,1.5000000000000002],\"y\":[0.0,1.0,1.0,0.0,6.123233995736766e-17,1.0,1.0,6.123233995736766e-17],\"z\":[0,0,0,0,0.8660254037844388,0.8660254037844388,0.8660254037844388,0.8660254037844388],\"type\":\"scatter3d\"},{\"marker\":{\"color\":\"blue\",\"line\":{\"color\":\"white\",\"width\":0}},\"opacity\":1,\"x\":[-0.4999999999999997],\"y\":[1.0],\"z\":[0.8660254037844388],\"type\":\"scatter3d\"},{\"marker\":{\"color\":\"red\",\"line\":{\"color\":\"white\",\"width\":0}},\"opacity\":1,\"x\":[-0.4999999999999998],\"y\":[6.123233995736766e-17],\"z\":[0.8660254037844388],\"type\":\"scatter3d\"},{\"flatshading\":true,\"i\":[7,0,0,0,4,4,6,1,4,0,3,6],\"j\":[3,4,1,2,5,6,5,2,0,1,6,3],\"k\":[0,7,2,3,6,7,1,6,5,5,7,2],\"opacity\":1,\"x\":[1.0,1.0,2.0,2.0,0.5000000000000002,0.5000000000000002,1.5000000000000002,1.5000000000000002],\"y\":[0.0,1.0,1.0,0.0,6.123233995736766e-17,1.0,1.0,6.123233995736766e-17],\"z\":[1,1,1,1,1.8660254037844388,1.8660254037844388,1.8660254037844388,1.8660254037844388],\"type\":\"mesh3d\"},{\"marker\":{\"color\":\"black\",\"line\":{\"color\":\"white\",\"width\":0},\"size\":2},\"opacity\":1,\"x\":[1.0,1.0,2.0,2.0,0.5000000000000002,0.5000000000000002,1.5000000000000002,1.5000000000000002],\"y\":[0.0,1.0,1.0,0.0,6.123233995736766e-17,1.0,1.0,6.123233995736766e-17],\"z\":[1,1,1,1,1.8660254037844388,1.8660254037844388,1.8660254037844388,1.8660254037844388],\"type\":\"scatter3d\"},{\"marker\":{\"color\":\"blue\",\"line\":{\"color\":\"white\",\"width\":0}},\"opacity\":1,\"x\":[-0.4999999999999997],\"y\":[1.0],\"z\":[0.8660254037844388],\"type\":\"scatter3d\"},{\"marker\":{\"color\":\"red\",\"line\":{\"color\":\"white\",\"width\":0}},\"opacity\":1,\"x\":[-0.4999999999999998],\"y\":[6.123233995736766e-17],\"z\":[0.8660254037844388],\"type\":\"scatter3d\"},{\"flatshading\":true,\"i\":[7,0,0,0,4,4,6,1,4,0,3,6],\"j\":[3,4,1,2,5,6,5,2,0,1,6,3],\"k\":[0,7,2,3,6,7,1,6,5,5,7,2],\"opacity\":1,\"x\":[1.0,1.0,2.0,2.0,0.5000000000000002,0.5000000000000002,1.5000000000000002,1.5000000000000002],\"y\":[0.9999999999999999,2.0,2.0,0.9999999999999999,0.9999999999999999,2.0,2.0,0.9999999999999999],\"z\":[0,0,0,0,0.8660254037844388,0.8660254037844388,0.8660254037844388,0.8660254037844388],\"type\":\"mesh3d\"},{\"marker\":{\"color\":\"black\",\"line\":{\"color\":\"white\",\"width\":0},\"size\":2},\"opacity\":1,\"x\":[1.0,1.0,2.0,2.0,0.5000000000000002,0.5000000000000002,1.5000000000000002,1.5000000000000002],\"y\":[0.9999999999999999,2.0,2.0,0.9999999999999999,0.9999999999999999,2.0,2.0,0.9999999999999999],\"z\":[0,0,0,0,0.8660254037844388,0.8660254037844388,0.8660254037844388,0.8660254037844388],\"type\":\"scatter3d\"},{\"marker\":{\"color\":\"blue\",\"line\":{\"color\":\"white\",\"width\":0}},\"opacity\":1,\"x\":[-0.4999999999999997],\"y\":[1.0],\"z\":[0.8660254037844388],\"type\":\"scatter3d\"},{\"marker\":{\"color\":\"red\",\"line\":{\"color\":\"white\",\"width\":0}},\"opacity\":1,\"x\":[-0.4999999999999998],\"y\":[6.123233995736766e-17],\"z\":[0.8660254037844388],\"type\":\"scatter3d\"},{\"flatshading\":true,\"i\":[7,0,0,0,4,4,6,1,4,0,3,6],\"j\":[3,4,1,2,5,6,5,2,0,1,6,3],\"k\":[0,7,2,3,6,7,1,6,5,5,7,2],\"opacity\":1,\"x\":[1.0,1.0,2.0,2.0,0.5000000000000002,0.5000000000000002,1.5000000000000002,1.5000000000000002],\"y\":[0.9999999999999999,2.0,2.0,0.9999999999999999,0.9999999999999999,2.0,2.0,0.9999999999999999],\"z\":[1,1,1,1,1.8660254037844388,1.8660254037844388,1.8660254037844388,1.8660254037844388],\"type\":\"mesh3d\"},{\"marker\":{\"color\":\"black\",\"line\":{\"color\":\"white\",\"width\":0},\"size\":2},\"opacity\":1,\"x\":[1.0,1.0,2.0,2.0,0.5000000000000002,0.5000000000000002,1.5000000000000002,1.5000000000000002],\"y\":[0.9999999999999999,2.0,2.0,0.9999999999999999,0.9999999999999999,2.0,2.0,0.9999999999999999],\"z\":[1,1,1,1,1.8660254037844388,1.8660254037844388,1.8660254037844388,1.8660254037844388],\"type\":\"scatter3d\"},{\"marker\":{\"color\":\"blue\",\"line\":{\"color\":\"white\",\"width\":0}},\"opacity\":1,\"x\":[-0.4999999999999997],\"y\":[1.0],\"z\":[0.8660254037844388],\"type\":\"scatter3d\"},{\"marker\":{\"color\":\"red\",\"line\":{\"color\":\"white\",\"width\":0}},\"opacity\":1,\"x\":[-0.4999999999999998],\"y\":[6.123233995736766e-17],\"z\":[0.8660254037844388],\"type\":\"scatter3d\"},{\"flatshading\":true,\"i\":[7,0,0,0,4,4,6,1,4,0,3,6],\"j\":[3,4,1,2,5,6,5,2,0,1,6,3],\"k\":[0,7,2,3,6,7,1,6,5,5,7,2],\"opacity\":1,\"x\":[2.0,2.0,3.0,3.0,1.5000000000000002,1.5000000000000002,2.5,2.5],\"y\":[0.0,1.0,1.0,0.0,6.123233995736766e-17,1.0,1.0,6.123233995736766e-17],\"z\":[0,0,0,0,0.8660254037844388,0.8660254037844388,0.8660254037844388,0.8660254037844388],\"type\":\"mesh3d\"},{\"marker\":{\"color\":\"black\",\"line\":{\"color\":\"white\",\"width\":0},\"size\":2},\"opacity\":1,\"x\":[2.0,2.0,3.0,3.0,1.5000000000000002,1.5000000000000002,2.5,2.5],\"y\":[0.0,1.0,1.0,0.0,6.123233995736766e-17,1.0,1.0,6.123233995736766e-17],\"z\":[0,0,0,0,0.8660254037844388,0.8660254037844388,0.8660254037844388,0.8660254037844388],\"type\":\"scatter3d\"},{\"marker\":{\"color\":\"blue\",\"line\":{\"color\":\"white\",\"width\":0}},\"opacity\":1,\"x\":[-0.4999999999999997],\"y\":[1.0],\"z\":[0.8660254037844388],\"type\":\"scatter3d\"},{\"marker\":{\"color\":\"red\",\"line\":{\"color\":\"white\",\"width\":0}},\"opacity\":1,\"x\":[-0.4999999999999998],\"y\":[6.123233995736766e-17],\"z\":[0.8660254037844388],\"type\":\"scatter3d\"},{\"flatshading\":true,\"i\":[7,0,0,0,4,4,6,1,4,0,3,6],\"j\":[3,4,1,2,5,6,5,2,0,1,6,3],\"k\":[0,7,2,3,6,7,1,6,5,5,7,2],\"opacity\":1,\"x\":[2.0,2.0,3.0,3.0,1.5000000000000002,1.5000000000000002,2.5,2.5],\"y\":[0.0,1.0,1.0,0.0,6.123233995736766e-17,1.0,1.0,6.123233995736766e-17],\"z\":[1,1,1,1,1.8660254037844388,1.8660254037844388,1.8660254037844388,1.8660254037844388],\"type\":\"mesh3d\"},{\"marker\":{\"color\":\"black\",\"line\":{\"color\":\"white\",\"width\":0},\"size\":2},\"opacity\":1,\"x\":[2.0,2.0,3.0,3.0,1.5000000000000002,1.5000000000000002,2.5,2.5],\"y\":[0.0,1.0,1.0,0.0,6.123233995736766e-17,1.0,1.0,6.123233995736766e-17],\"z\":[1,1,1,1,1.8660254037844388,1.8660254037844388,1.8660254037844388,1.8660254037844388],\"type\":\"scatter3d\"},{\"marker\":{\"color\":\"blue\",\"line\":{\"color\":\"white\",\"width\":0}},\"opacity\":1,\"x\":[-0.4999999999999997],\"y\":[1.0],\"z\":[0.8660254037844388],\"type\":\"scatter3d\"},{\"marker\":{\"color\":\"red\",\"line\":{\"color\":\"white\",\"width\":0}},\"opacity\":1,\"x\":[-0.4999999999999998],\"y\":[6.123233995736766e-17],\"z\":[0.8660254037844388],\"type\":\"scatter3d\"},{\"flatshading\":true,\"i\":[7,0,0,0,4,4,6,1,4,0,3,6],\"j\":[3,4,1,2,5,6,5,2,0,1,6,3],\"k\":[0,7,2,3,6,7,1,6,5,5,7,2],\"opacity\":1,\"x\":[2.0,2.0,3.0,3.0,1.5000000000000002,1.5000000000000002,2.5,2.5],\"y\":[0.9999999999999999,2.0,2.0,0.9999999999999999,0.9999999999999999,2.0,2.0,0.9999999999999999],\"z\":[0,0,0,0,0.8660254037844388,0.8660254037844388,0.8660254037844388,0.8660254037844388],\"type\":\"mesh3d\"},{\"marker\":{\"color\":\"black\",\"line\":{\"color\":\"white\",\"width\":0},\"size\":2},\"opacity\":1,\"x\":[2.0,2.0,3.0,3.0,1.5000000000000002,1.5000000000000002,2.5,2.5],\"y\":[0.9999999999999999,2.0,2.0,0.9999999999999999,0.9999999999999999,2.0,2.0,0.9999999999999999],\"z\":[0,0,0,0,0.8660254037844388,0.8660254037844388,0.8660254037844388,0.8660254037844388],\"type\":\"scatter3d\"},{\"marker\":{\"color\":\"blue\",\"line\":{\"color\":\"white\",\"width\":0}},\"opacity\":1,\"x\":[-0.4999999999999997],\"y\":[1.0],\"z\":[0.8660254037844388],\"type\":\"scatter3d\"},{\"marker\":{\"color\":\"red\",\"line\":{\"color\":\"white\",\"width\":0}},\"opacity\":1,\"x\":[-0.4999999999999998],\"y\":[6.123233995736766e-17],\"z\":[0.8660254037844388],\"type\":\"scatter3d\"},{\"flatshading\":true,\"i\":[7,0,0,0,4,4,6,1,4,0,3,6],\"j\":[3,4,1,2,5,6,5,2,0,1,6,3],\"k\":[0,7,2,3,6,7,1,6,5,5,7,2],\"opacity\":1,\"x\":[2.0,2.0,3.0,3.0,1.5000000000000002,1.5000000000000002,2.5,2.5],\"y\":[0.9999999999999999,2.0,2.0,0.9999999999999999,0.9999999999999999,2.0,2.0,0.9999999999999999],\"z\":[1,1,1,1,1.8660254037844388,1.8660254037844388,1.8660254037844388,1.8660254037844388],\"type\":\"mesh3d\"},{\"marker\":{\"color\":\"black\",\"line\":{\"color\":\"white\",\"width\":0},\"size\":2},\"opacity\":1,\"x\":[2.0,2.0,3.0,3.0,1.5000000000000002,1.5000000000000002,2.5,2.5],\"y\":[0.9999999999999999,2.0,2.0,0.9999999999999999,0.9999999999999999,2.0,2.0,0.9999999999999999],\"z\":[1,1,1,1,1.8660254037844388,1.8660254037844388,1.8660254037844388,1.8660254037844388],\"type\":\"scatter3d\"},{\"marker\":{\"color\":\"blue\",\"line\":{\"color\":\"white\",\"width\":0}},\"opacity\":1,\"x\":[-0.4999999999999997],\"y\":[1.0],\"z\":[0.8660254037844388],\"type\":\"scatter3d\"},{\"marker\":{\"color\":\"red\",\"line\":{\"color\":\"white\",\"width\":0}},\"opacity\":1,\"x\":[-0.4999999999999998],\"y\":[6.123233995736766e-17],\"z\":[0.8660254037844388],\"type\":\"scatter3d\"},{\"flatshading\":true,\"i\":[7,0,0,0,4,4,6,1,4,0,3,6],\"j\":[3,4,1,2,5,6,5,2,0,1,6,3],\"k\":[0,7,2,3,6,7,1,6,5,5,7,2],\"opacity\":1,\"x\":[3.0,3.0,4.0,4.0,2.5,2.5000000000000004,3.5,3.5],\"y\":[0.0,1.0,1.0,0.0,6.123233995736766e-17,1.0,1.0,6.123233995736766e-17],\"z\":[0,0,0,0,0.8660254037844388,0.8660254037844388,0.8660254037844388,0.8660254037844388],\"type\":\"mesh3d\"},{\"marker\":{\"color\":\"black\",\"line\":{\"color\":\"white\",\"width\":0},\"size\":2},\"opacity\":1,\"x\":[3.0,3.0,4.0,4.0,2.5,2.5000000000000004,3.5,3.5],\"y\":[0.0,1.0,1.0,0.0,6.123233995736766e-17,1.0,1.0,6.123233995736766e-17],\"z\":[0,0,0,0,0.8660254037844388,0.8660254037844388,0.8660254037844388,0.8660254037844388],\"type\":\"scatter3d\"},{\"marker\":{\"color\":\"blue\",\"line\":{\"color\":\"white\",\"width\":0}},\"opacity\":1,\"x\":[-0.4999999999999997],\"y\":[1.0],\"z\":[0.8660254037844388],\"type\":\"scatter3d\"},{\"marker\":{\"color\":\"red\",\"line\":{\"color\":\"white\",\"width\":0}},\"opacity\":1,\"x\":[-0.4999999999999998],\"y\":[6.123233995736766e-17],\"z\":[0.8660254037844388],\"type\":\"scatter3d\"},{\"flatshading\":true,\"i\":[7,0,0,0,4,4,6,1,4,0,3,6],\"j\":[3,4,1,2,5,6,5,2,0,1,6,3],\"k\":[0,7,2,3,6,7,1,6,5,5,7,2],\"opacity\":1,\"x\":[3.0,3.0,4.0,4.0,2.5,2.5000000000000004,3.5,3.5],\"y\":[0.0,1.0,1.0,0.0,6.123233995736766e-17,1.0,1.0,6.123233995736766e-17],\"z\":[1,1,1,1,1.8660254037844388,1.8660254037844388,1.8660254037844388,1.8660254037844388],\"type\":\"mesh3d\"},{\"marker\":{\"color\":\"black\",\"line\":{\"color\":\"white\",\"width\":0},\"size\":2},\"opacity\":1,\"x\":[3.0,3.0,4.0,4.0,2.5,2.5000000000000004,3.5,3.5],\"y\":[0.0,1.0,1.0,0.0,6.123233995736766e-17,1.0,1.0,6.123233995736766e-17],\"z\":[1,1,1,1,1.8660254037844388,1.8660254037844388,1.8660254037844388,1.8660254037844388],\"type\":\"scatter3d\"},{\"marker\":{\"color\":\"blue\",\"line\":{\"color\":\"white\",\"width\":0}},\"opacity\":1,\"x\":[-0.4999999999999997],\"y\":[1.0],\"z\":[0.8660254037844388],\"type\":\"scatter3d\"},{\"marker\":{\"color\":\"red\",\"line\":{\"color\":\"white\",\"width\":0}},\"opacity\":1,\"x\":[-0.4999999999999998],\"y\":[6.123233995736766e-17],\"z\":[0.8660254037844388],\"type\":\"scatter3d\"},{\"flatshading\":true,\"i\":[7,0,0,0,4,4,6,1,4,0,3,6],\"j\":[3,4,1,2,5,6,5,2,0,1,6,3],\"k\":[0,7,2,3,6,7,1,6,5,5,7,2],\"opacity\":1,\"x\":[3.0,3.0,4.0,4.0,2.5,2.500000000000001,3.5,3.5],\"y\":[0.9999999999999999,2.0,2.0,0.9999999999999999,0.9999999999999999,2.0,2.0,0.9999999999999999],\"z\":[0,0,0,0,0.8660254037844388,0.8660254037844388,0.8660254037844388,0.8660254037844388],\"type\":\"mesh3d\"},{\"marker\":{\"color\":\"black\",\"line\":{\"color\":\"white\",\"width\":0},\"size\":2},\"opacity\":1,\"x\":[3.0,3.0,4.0,4.0,2.5,2.500000000000001,3.5,3.5],\"y\":[0.9999999999999999,2.0,2.0,0.9999999999999999,0.9999999999999999,2.0,2.0,0.9999999999999999],\"z\":[0,0,0,0,0.8660254037844388,0.8660254037844388,0.8660254037844388,0.8660254037844388],\"type\":\"scatter3d\"},{\"marker\":{\"color\":\"blue\",\"line\":{\"color\":\"white\",\"width\":0}},\"opacity\":1,\"x\":[-0.4999999999999997],\"y\":[1.0],\"z\":[0.8660254037844388],\"type\":\"scatter3d\"},{\"marker\":{\"color\":\"red\",\"line\":{\"color\":\"white\",\"width\":0}},\"opacity\":1,\"x\":[-0.4999999999999998],\"y\":[6.123233995736766e-17],\"z\":[0.8660254037844388],\"type\":\"scatter3d\"},{\"flatshading\":true,\"i\":[7,0,0,0,4,4,6,1,4,0,3,6],\"j\":[3,4,1,2,5,6,5,2,0,1,6,3],\"k\":[0,7,2,3,6,7,1,6,5,5,7,2],\"opacity\":1,\"x\":[3.0,3.0,4.0,4.0,2.5,2.500000000000001,3.5,3.5],\"y\":[0.9999999999999999,2.0,2.0,0.9999999999999999,0.9999999999999999,2.0,2.0,0.9999999999999999],\"z\":[1,1,1,1,1.8660254037844388,1.8660254037844388,1.8660254037844388,1.8660254037844388],\"type\":\"mesh3d\"},{\"marker\":{\"color\":\"black\",\"line\":{\"color\":\"white\",\"width\":0},\"size\":2},\"opacity\":1,\"x\":[3.0,3.0,4.0,4.0,2.5,2.500000000000001,3.5,3.5],\"y\":[0.9999999999999999,2.0,2.0,0.9999999999999999,0.9999999999999999,2.0,2.0,0.9999999999999999],\"z\":[1,1,1,1,1.8660254037844388,1.8660254037844388,1.8660254037844388,1.8660254037844388],\"type\":\"scatter3d\"},{\"marker\":{\"color\":\"blue\",\"line\":{\"color\":\"white\",\"width\":0}},\"opacity\":1,\"x\":[-0.4999999999999997],\"y\":[1.0],\"z\":[0.8660254037844388],\"type\":\"scatter3d\"},{\"marker\":{\"color\":\"red\",\"line\":{\"color\":\"white\",\"width\":0}},\"opacity\":1,\"x\":[-0.4999999999999998],\"y\":[6.123233995736766e-17],\"z\":[0.8660254037844388],\"type\":\"scatter3d\"},{\"flatshading\":true,\"i\":[7,0,0,0,4,4,6,1,4,0,3,6],\"j\":[3,4,1,2,5,6,5,2,0,1,6,3],\"k\":[0,7,2,3,6,7,1,6,5,5,7,2],\"opacity\":1,\"x\":[4.0,4.0,5.0,5.0,3.5,3.5000000000000004,4.5,4.5],\"y\":[0.0,1.0,1.0,0.0,6.123233995736766e-17,1.0,1.0,6.123233995736766e-17],\"z\":[0,0,0,0,0.8660254037844388,0.8660254037844388,0.8660254037844388,0.8660254037844388],\"type\":\"mesh3d\"},{\"marker\":{\"color\":\"black\",\"line\":{\"color\":\"white\",\"width\":0},\"size\":2},\"opacity\":1,\"x\":[4.0,4.0,5.0,5.0,3.5,3.5000000000000004,4.5,4.5],\"y\":[0.0,1.0,1.0,0.0,6.123233995736766e-17,1.0,1.0,6.123233995736766e-17],\"z\":[0,0,0,0,0.8660254037844388,0.8660254037844388,0.8660254037844388,0.8660254037844388],\"type\":\"scatter3d\"},{\"marker\":{\"color\":\"blue\",\"line\":{\"color\":\"white\",\"width\":0}},\"opacity\":1,\"x\":[-0.4999999999999997],\"y\":[1.0],\"z\":[0.8660254037844388],\"type\":\"scatter3d\"},{\"marker\":{\"color\":\"red\",\"line\":{\"color\":\"white\",\"width\":0}},\"opacity\":1,\"x\":[-0.4999999999999998],\"y\":[6.123233995736766e-17],\"z\":[0.8660254037844388],\"type\":\"scatter3d\"},{\"flatshading\":true,\"i\":[7,0,0,0,4,4,6,1,4,0,3,6],\"j\":[3,4,1,2,5,6,5,2,0,1,6,3],\"k\":[0,7,2,3,6,7,1,6,5,5,7,2],\"opacity\":1,\"x\":[4.0,4.0,5.0,5.0,3.5,3.5000000000000004,4.5,4.5],\"y\":[0.0,1.0,1.0,0.0,6.123233995736766e-17,1.0,1.0,6.123233995736766e-17],\"z\":[1,1,1,1,1.8660254037844388,1.8660254037844388,1.8660254037844388,1.8660254037844388],\"type\":\"mesh3d\"},{\"marker\":{\"color\":\"black\",\"line\":{\"color\":\"white\",\"width\":0},\"size\":2},\"opacity\":1,\"x\":[4.0,4.0,5.0,5.0,3.5,3.5000000000000004,4.5,4.5],\"y\":[0.0,1.0,1.0,0.0,6.123233995736766e-17,1.0,1.0,6.123233995736766e-17],\"z\":[1,1,1,1,1.8660254037844388,1.8660254037844388,1.8660254037844388,1.8660254037844388],\"type\":\"scatter3d\"},{\"marker\":{\"color\":\"blue\",\"line\":{\"color\":\"white\",\"width\":0}},\"opacity\":1,\"x\":[-0.4999999999999997],\"y\":[1.0],\"z\":[0.8660254037844388],\"type\":\"scatter3d\"},{\"marker\":{\"color\":\"red\",\"line\":{\"color\":\"white\",\"width\":0}},\"opacity\":1,\"x\":[-0.4999999999999998],\"y\":[6.123233995736766e-17],\"z\":[0.8660254037844388],\"type\":\"scatter3d\"},{\"flatshading\":true,\"i\":[7,0,0,0,4,4,6,1,4,0,3,6],\"j\":[3,4,1,2,5,6,5,2,0,1,6,3],\"k\":[0,7,2,3,6,7,1,6,5,5,7,2],\"opacity\":1,\"x\":[4.0,4.0,5.0,5.0,3.5,3.500000000000001,4.5,4.5],\"y\":[0.9999999999999999,2.0,2.0,0.9999999999999999,0.9999999999999999,2.0,2.0,0.9999999999999999],\"z\":[0,0,0,0,0.8660254037844388,0.8660254037844388,0.8660254037844388,0.8660254037844388],\"type\":\"mesh3d\"},{\"marker\":{\"color\":\"black\",\"line\":{\"color\":\"white\",\"width\":0},\"size\":2},\"opacity\":1,\"x\":[4.0,4.0,5.0,5.0,3.5,3.500000000000001,4.5,4.5],\"y\":[0.9999999999999999,2.0,2.0,0.9999999999999999,0.9999999999999999,2.0,2.0,0.9999999999999999],\"z\":[0,0,0,0,0.8660254037844388,0.8660254037844388,0.8660254037844388,0.8660254037844388],\"type\":\"scatter3d\"},{\"marker\":{\"color\":\"blue\",\"line\":{\"color\":\"white\",\"width\":0}},\"opacity\":1,\"x\":[-0.4999999999999997],\"y\":[1.0],\"z\":[0.8660254037844388],\"type\":\"scatter3d\"},{\"marker\":{\"color\":\"red\",\"line\":{\"color\":\"white\",\"width\":0}},\"opacity\":1,\"x\":[-0.4999999999999998],\"y\":[6.123233995736766e-17],\"z\":[0.8660254037844388],\"type\":\"scatter3d\"},{\"flatshading\":true,\"i\":[7,0,0,0,4,4,6,1,4,0,3,6],\"j\":[3,4,1,2,5,6,5,2,0,1,6,3],\"k\":[0,7,2,3,6,7,1,6,5,5,7,2],\"opacity\":1,\"x\":[4.0,4.0,5.0,5.0,3.5,3.500000000000001,4.5,4.5],\"y\":[0.9999999999999999,2.0,2.0,0.9999999999999999,0.9999999999999999,2.0,2.0,0.9999999999999999],\"z\":[1,1,1,1,1.8660254037844388,1.8660254037844388,1.8660254037844388,1.8660254037844388],\"type\":\"mesh3d\"},{\"marker\":{\"color\":\"black\",\"line\":{\"color\":\"white\",\"width\":0},\"size\":2},\"opacity\":1,\"x\":[4.0,4.0,5.0,5.0,3.5,3.500000000000001,4.5,4.5],\"y\":[0.9999999999999999,2.0,2.0,0.9999999999999999,0.9999999999999999,2.0,2.0,0.9999999999999999],\"z\":[1,1,1,1,1.8660254037844388,1.8660254037844388,1.8660254037844388,1.8660254037844388],\"type\":\"scatter3d\"},{\"marker\":{\"color\":\"blue\",\"line\":{\"color\":\"white\",\"width\":0}},\"opacity\":1,\"x\":[-0.4999999999999997],\"y\":[1.0],\"z\":[0.8660254037844388],\"type\":\"scatter3d\"},{\"marker\":{\"color\":\"red\",\"line\":{\"color\":\"white\",\"width\":0}},\"opacity\":1,\"x\":[-0.4999999999999998],\"y\":[6.123233995736766e-17],\"z\":[0.8660254037844388],\"type\":\"scatter3d\"},{\"flatshading\":true,\"i\":[7,0,0,0,4,4,6,1,4,0,3,6],\"j\":[3,4,1,2,5,6,5,2,0,1,6,3],\"k\":[0,7,2,3,6,7,1,6,5,5,7,2],\"opacity\":1,\"x\":[5.0,5.0,6.0,6.0,4.5,4.5,5.5,5.5],\"y\":[0.0,1.0,1.0,0.0,6.123233995736766e-17,1.0,1.0,6.123233995736766e-17],\"z\":[0,0,0,0,0.8660254037844388,0.8660254037844388,0.8660254037844388,0.8660254037844388],\"type\":\"mesh3d\"},{\"marker\":{\"color\":\"black\",\"line\":{\"color\":\"white\",\"width\":0},\"size\":2},\"opacity\":1,\"x\":[5.0,5.0,6.0,6.0,4.5,4.5,5.5,5.5],\"y\":[0.0,1.0,1.0,0.0,6.123233995736766e-17,1.0,1.0,6.123233995736766e-17],\"z\":[0,0,0,0,0.8660254037844388,0.8660254037844388,0.8660254037844388,0.8660254037844388],\"type\":\"scatter3d\"},{\"marker\":{\"color\":\"blue\",\"line\":{\"color\":\"white\",\"width\":0}},\"opacity\":1,\"x\":[-0.4999999999999997],\"y\":[1.0],\"z\":[0.8660254037844388],\"type\":\"scatter3d\"},{\"marker\":{\"color\":\"red\",\"line\":{\"color\":\"white\",\"width\":0}},\"opacity\":1,\"x\":[-0.4999999999999998],\"y\":[6.123233995736766e-17],\"z\":[0.8660254037844388],\"type\":\"scatter3d\"},{\"flatshading\":true,\"i\":[7,0,0,0,4,4,6,1,4,0,3,6],\"j\":[3,4,1,2,5,6,5,2,0,1,6,3],\"k\":[0,7,2,3,6,7,1,6,5,5,7,2],\"opacity\":1,\"x\":[5.0,5.0,6.0,6.0,4.5,4.5,5.5,5.5],\"y\":[0.0,1.0,1.0,0.0,6.123233995736766e-17,1.0,1.0,6.123233995736766e-17],\"z\":[1,1,1,1,1.8660254037844388,1.8660254037844388,1.8660254037844388,1.8660254037844388],\"type\":\"mesh3d\"},{\"marker\":{\"color\":\"black\",\"line\":{\"color\":\"white\",\"width\":0},\"size\":2},\"opacity\":1,\"x\":[5.0,5.0,6.0,6.0,4.5,4.5,5.5,5.5],\"y\":[0.0,1.0,1.0,0.0,6.123233995736766e-17,1.0,1.0,6.123233995736766e-17],\"z\":[1,1,1,1,1.8660254037844388,1.8660254037844388,1.8660254037844388,1.8660254037844388],\"type\":\"scatter3d\"},{\"marker\":{\"color\":\"blue\",\"line\":{\"color\":\"white\",\"width\":0}},\"opacity\":1,\"x\":[-0.4999999999999997],\"y\":[1.0],\"z\":[0.8660254037844388],\"type\":\"scatter3d\"},{\"marker\":{\"color\":\"red\",\"line\":{\"color\":\"white\",\"width\":0}},\"opacity\":1,\"x\":[-0.4999999999999998],\"y\":[6.123233995736766e-17],\"z\":[0.8660254037844388],\"type\":\"scatter3d\"},{\"flatshading\":true,\"i\":[7,0,0,0,4,4,6,1,4,0,3,6],\"j\":[3,4,1,2,5,6,5,2,0,1,6,3],\"k\":[0,7,2,3,6,7,1,6,5,5,7,2],\"opacity\":1,\"x\":[5.0,5.0,6.0,6.0,4.5,4.5,5.5,5.5],\"y\":[0.9999999999999999,2.0,2.0,0.9999999999999999,0.9999999999999999,2.0,2.0,0.9999999999999999],\"z\":[0,0,0,0,0.8660254037844388,0.8660254037844388,0.8660254037844388,0.8660254037844388],\"type\":\"mesh3d\"},{\"marker\":{\"color\":\"black\",\"line\":{\"color\":\"white\",\"width\":0},\"size\":2},\"opacity\":1,\"x\":[5.0,5.0,6.0,6.0,4.5,4.5,5.5,5.5],\"y\":[0.9999999999999999,2.0,2.0,0.9999999999999999,0.9999999999999999,2.0,2.0,0.9999999999999999],\"z\":[0,0,0,0,0.8660254037844388,0.8660254037844388,0.8660254037844388,0.8660254037844388],\"type\":\"scatter3d\"},{\"marker\":{\"color\":\"blue\",\"line\":{\"color\":\"white\",\"width\":0}},\"opacity\":1,\"x\":[-0.4999999999999997],\"y\":[1.0],\"z\":[0.8660254037844388],\"type\":\"scatter3d\"},{\"marker\":{\"color\":\"red\",\"line\":{\"color\":\"white\",\"width\":0}},\"opacity\":1,\"x\":[-0.4999999999999998],\"y\":[6.123233995736766e-17],\"z\":[0.8660254037844388],\"type\":\"scatter3d\"},{\"flatshading\":true,\"i\":[7,0,0,0,4,4,6,1,4,0,3,6],\"j\":[3,4,1,2,5,6,5,2,0,1,6,3],\"k\":[0,7,2,3,6,7,1,6,5,5,7,2],\"opacity\":1,\"x\":[5.0,5.0,6.0,6.0,4.5,4.5,5.5,5.5],\"y\":[0.9999999999999999,2.0,2.0,0.9999999999999999,0.9999999999999999,2.0,2.0,0.9999999999999999],\"z\":[1,1,1,1,1.8660254037844388,1.8660254037844388,1.8660254037844388,1.8660254037844388],\"type\":\"mesh3d\"},{\"marker\":{\"color\":\"black\",\"line\":{\"color\":\"white\",\"width\":0},\"size\":2},\"opacity\":1,\"x\":[5.0,5.0,6.0,6.0,4.5,4.5,5.5,5.5],\"y\":[0.9999999999999999,2.0,2.0,0.9999999999999999,0.9999999999999999,2.0,2.0,0.9999999999999999],\"z\":[1,1,1,1,1.8660254037844388,1.8660254037844388,1.8660254037844388,1.8660254037844388],\"type\":\"scatter3d\"},{\"marker\":{\"color\":\"blue\",\"line\":{\"color\":\"white\",\"width\":0}},\"opacity\":1,\"x\":[-0.4999999999999997],\"y\":[1.0],\"z\":[0.8660254037844388],\"type\":\"scatter3d\"},{\"marker\":{\"color\":\"red\",\"line\":{\"color\":\"white\",\"width\":0}},\"opacity\":1,\"x\":[-0.4999999999999998],\"y\":[6.123233995736766e-17],\"z\":[0.8660254037844388],\"type\":\"scatter3d\"},{\"flatshading\":true,\"i\":[7,0,0,0,4,4,6,1,4,0,3,6],\"j\":[3,4,1,2,5,6,5,2,0,1,6,3],\"k\":[0,7,2,3,6,7,1,6,5,5,7,2],\"opacity\":1,\"x\":[6.0,6.0,7.0,7.0,5.5,5.5,6.5,6.5],\"y\":[0.0,1.0,1.0,0.0,6.123233995736766e-17,1.0,1.0,6.123233995736766e-17],\"z\":[0,0,0,0,0.8660254037844388,0.8660254037844388,0.8660254037844388,0.8660254037844388],\"type\":\"mesh3d\"},{\"marker\":{\"color\":\"black\",\"line\":{\"color\":\"white\",\"width\":0},\"size\":2},\"opacity\":1,\"x\":[6.0,6.0,7.0,7.0,5.5,5.5,6.5,6.5],\"y\":[0.0,1.0,1.0,0.0,6.123233995736766e-17,1.0,1.0,6.123233995736766e-17],\"z\":[0,0,0,0,0.8660254037844388,0.8660254037844388,0.8660254037844388,0.8660254037844388],\"type\":\"scatter3d\"},{\"marker\":{\"color\":\"blue\",\"line\":{\"color\":\"white\",\"width\":0}},\"opacity\":1,\"x\":[-0.4999999999999997],\"y\":[1.0],\"z\":[0.8660254037844388],\"type\":\"scatter3d\"},{\"marker\":{\"color\":\"red\",\"line\":{\"color\":\"white\",\"width\":0}},\"opacity\":1,\"x\":[-0.4999999999999998],\"y\":[6.123233995736766e-17],\"z\":[0.8660254037844388],\"type\":\"scatter3d\"},{\"flatshading\":true,\"i\":[7,0,0,0,4,4,6,1,4,0,3,6],\"j\":[3,4,1,2,5,6,5,2,0,1,6,3],\"k\":[0,7,2,3,6,7,1,6,5,5,7,2],\"opacity\":1,\"x\":[6.0,6.0,7.0,7.0,5.5,5.5,6.5,6.5],\"y\":[0.0,1.0,1.0,0.0,6.123233995736766e-17,1.0,1.0,6.123233995736766e-17],\"z\":[1,1,1,1,1.8660254037844388,1.8660254037844388,1.8660254037844388,1.8660254037844388],\"type\":\"mesh3d\"},{\"marker\":{\"color\":\"black\",\"line\":{\"color\":\"white\",\"width\":0},\"size\":2},\"opacity\":1,\"x\":[6.0,6.0,7.0,7.0,5.5,5.5,6.5,6.5],\"y\":[0.0,1.0,1.0,0.0,6.123233995736766e-17,1.0,1.0,6.123233995736766e-17],\"z\":[1,1,1,1,1.8660254037844388,1.8660254037844388,1.8660254037844388,1.8660254037844388],\"type\":\"scatter3d\"},{\"marker\":{\"color\":\"blue\",\"line\":{\"color\":\"white\",\"width\":0}},\"opacity\":1,\"x\":[-0.4999999999999997],\"y\":[1.0],\"z\":[0.8660254037844388],\"type\":\"scatter3d\"},{\"marker\":{\"color\":\"red\",\"line\":{\"color\":\"white\",\"width\":0}},\"opacity\":1,\"x\":[-0.4999999999999998],\"y\":[6.123233995736766e-17],\"z\":[0.8660254037844388],\"type\":\"scatter3d\"},{\"flatshading\":true,\"i\":[7,0,0,0,4,4,6,1,4,0,3,6],\"j\":[3,4,1,2,5,6,5,2,0,1,6,3],\"k\":[0,7,2,3,6,7,1,6,5,5,7,2],\"opacity\":1,\"x\":[6.0,6.0,7.0,7.0,5.5,5.5,6.5,6.5],\"y\":[0.9999999999999999,2.0,2.0,0.9999999999999999,0.9999999999999999,2.0,2.0,0.9999999999999999],\"z\":[0,0,0,0,0.8660254037844388,0.8660254037844388,0.8660254037844388,0.8660254037844388],\"type\":\"mesh3d\"},{\"marker\":{\"color\":\"black\",\"line\":{\"color\":\"white\",\"width\":0},\"size\":2},\"opacity\":1,\"x\":[6.0,6.0,7.0,7.0,5.5,5.5,6.5,6.5],\"y\":[0.9999999999999999,2.0,2.0,0.9999999999999999,0.9999999999999999,2.0,2.0,0.9999999999999999],\"z\":[0,0,0,0,0.8660254037844388,0.8660254037844388,0.8660254037844388,0.8660254037844388],\"type\":\"scatter3d\"},{\"marker\":{\"color\":\"blue\",\"line\":{\"color\":\"white\",\"width\":0}},\"opacity\":1,\"x\":[-0.4999999999999997],\"y\":[1.0],\"z\":[0.8660254037844388],\"type\":\"scatter3d\"},{\"marker\":{\"color\":\"red\",\"line\":{\"color\":\"white\",\"width\":0}},\"opacity\":1,\"x\":[-0.4999999999999998],\"y\":[6.123233995736766e-17],\"z\":[0.8660254037844388],\"type\":\"scatter3d\"},{\"flatshading\":true,\"i\":[7,0,0,0,4,4,6,1,4,0,3,6],\"j\":[3,4,1,2,5,6,5,2,0,1,6,3],\"k\":[0,7,2,3,6,7,1,6,5,5,7,2],\"opacity\":1,\"x\":[6.0,6.0,7.0,7.0,5.5,5.5,6.5,6.5],\"y\":[0.9999999999999999,2.0,2.0,0.9999999999999999,0.9999999999999999,2.0,2.0,0.9999999999999999],\"z\":[1,1,1,1,1.8660254037844388,1.8660254037844388,1.8660254037844388,1.8660254037844388],\"type\":\"mesh3d\"},{\"marker\":{\"color\":\"black\",\"line\":{\"color\":\"white\",\"width\":0},\"size\":2},\"opacity\":1,\"x\":[6.0,6.0,7.0,7.0,5.5,5.5,6.5,6.5],\"y\":[0.9999999999999999,2.0,2.0,0.9999999999999999,0.9999999999999999,2.0,2.0,0.9999999999999999],\"z\":[1,1,1,1,1.8660254037844388,1.8660254037844388,1.8660254037844388,1.8660254037844388],\"type\":\"scatter3d\"},{\"marker\":{\"color\":\"blue\",\"line\":{\"color\":\"white\",\"width\":0}},\"opacity\":1,\"x\":[-0.4999999999999997],\"y\":[1.0],\"z\":[0.8660254037844388],\"type\":\"scatter3d\"},{\"marker\":{\"color\":\"red\",\"line\":{\"color\":\"white\",\"width\":0}},\"opacity\":1,\"x\":[-0.4999999999999998],\"y\":[6.123233995736766e-17],\"z\":[0.8660254037844388],\"type\":\"scatter3d\"},{\"flatshading\":true,\"i\":[7,0,0,0,4,4,6,1,4,0,3,6],\"j\":[3,4,1,2,5,6,5,2,0,1,6,3],\"k\":[0,7,2,3,6,7,1,6,5,5,7,2],\"opacity\":1,\"x\":[7.0,7.0,8.0,8.0,6.5,6.5,7.5,7.5],\"y\":[0.0,1.0,1.0,0.0,6.123233995736766e-17,1.0,1.0,6.123233995736766e-17],\"z\":[0,0,0,0,0.8660254037844388,0.8660254037844388,0.8660254037844388,0.8660254037844388],\"type\":\"mesh3d\"},{\"marker\":{\"color\":\"black\",\"line\":{\"color\":\"white\",\"width\":0},\"size\":2},\"opacity\":1,\"x\":[7.0,7.0,8.0,8.0,6.5,6.5,7.5,7.5],\"y\":[0.0,1.0,1.0,0.0,6.123233995736766e-17,1.0,1.0,6.123233995736766e-17],\"z\":[0,0,0,0,0.8660254037844388,0.8660254037844388,0.8660254037844388,0.8660254037844388],\"type\":\"scatter3d\"},{\"marker\":{\"color\":\"blue\",\"line\":{\"color\":\"white\",\"width\":0}},\"opacity\":1,\"x\":[-0.4999999999999997],\"y\":[1.0],\"z\":[0.8660254037844388],\"type\":\"scatter3d\"},{\"marker\":{\"color\":\"red\",\"line\":{\"color\":\"white\",\"width\":0}},\"opacity\":1,\"x\":[-0.4999999999999998],\"y\":[6.123233995736766e-17],\"z\":[0.8660254037844388],\"type\":\"scatter3d\"},{\"flatshading\":true,\"i\":[7,0,0,0,4,4,6,1,4,0,3,6],\"j\":[3,4,1,2,5,6,5,2,0,1,6,3],\"k\":[0,7,2,3,6,7,1,6,5,5,7,2],\"opacity\":1,\"x\":[7.0,7.0,8.0,8.0,6.5,6.5,7.5,7.5],\"y\":[0.0,1.0,1.0,0.0,6.123233995736766e-17,1.0,1.0,6.123233995736766e-17],\"z\":[1,1,1,1,1.8660254037844388,1.8660254037844388,1.8660254037844388,1.8660254037844388],\"type\":\"mesh3d\"},{\"marker\":{\"color\":\"black\",\"line\":{\"color\":\"white\",\"width\":0},\"size\":2},\"opacity\":1,\"x\":[7.0,7.0,8.0,8.0,6.5,6.5,7.5,7.5],\"y\":[0.0,1.0,1.0,0.0,6.123233995736766e-17,1.0,1.0,6.123233995736766e-17],\"z\":[1,1,1,1,1.8660254037844388,1.8660254037844388,1.8660254037844388,1.8660254037844388],\"type\":\"scatter3d\"},{\"marker\":{\"color\":\"blue\",\"line\":{\"color\":\"white\",\"width\":0}},\"opacity\":1,\"x\":[-0.4999999999999997],\"y\":[1.0],\"z\":[0.8660254037844388],\"type\":\"scatter3d\"},{\"marker\":{\"color\":\"red\",\"line\":{\"color\":\"white\",\"width\":0}},\"opacity\":1,\"x\":[-0.4999999999999998],\"y\":[6.123233995736766e-17],\"z\":[0.8660254037844388],\"type\":\"scatter3d\"},{\"flatshading\":true,\"i\":[7,0,0,0,4,4,6,1,4,0,3,6],\"j\":[3,4,1,2,5,6,5,2,0,1,6,3],\"k\":[0,7,2,3,6,7,1,6,5,5,7,2],\"opacity\":1,\"x\":[7.0,7.0,8.0,8.0,6.5,6.5,7.5,7.5],\"y\":[0.9999999999999999,2.0,2.0,0.9999999999999999,0.9999999999999999,2.0,2.0,0.9999999999999999],\"z\":[0,0,0,0,0.8660254037844388,0.8660254037844388,0.8660254037844388,0.8660254037844388],\"type\":\"mesh3d\"},{\"marker\":{\"color\":\"black\",\"line\":{\"color\":\"white\",\"width\":0},\"size\":2},\"opacity\":1,\"x\":[7.0,7.0,8.0,8.0,6.5,6.5,7.5,7.5],\"y\":[0.9999999999999999,2.0,2.0,0.9999999999999999,0.9999999999999999,2.0,2.0,0.9999999999999999],\"z\":[0,0,0,0,0.8660254037844388,0.8660254037844388,0.8660254037844388,0.8660254037844388],\"type\":\"scatter3d\"},{\"marker\":{\"color\":\"blue\",\"line\":{\"color\":\"white\",\"width\":0}},\"opacity\":1,\"x\":[-0.4999999999999997],\"y\":[1.0],\"z\":[0.8660254037844388],\"type\":\"scatter3d\"},{\"marker\":{\"color\":\"red\",\"line\":{\"color\":\"white\",\"width\":0}},\"opacity\":1,\"x\":[-0.4999999999999998],\"y\":[6.123233995736766e-17],\"z\":[0.8660254037844388],\"type\":\"scatter3d\"},{\"flatshading\":true,\"i\":[7,0,0,0,4,4,6,1,4,0,3,6],\"j\":[3,4,1,2,5,6,5,2,0,1,6,3],\"k\":[0,7,2,3,6,7,1,6,5,5,7,2],\"opacity\":1,\"x\":[7.0,7.0,8.0,8.0,6.5,6.5,7.5,7.5],\"y\":[0.9999999999999999,2.0,2.0,0.9999999999999999,0.9999999999999999,2.0,2.0,0.9999999999999999],\"z\":[1,1,1,1,1.8660254037844388,1.8660254037844388,1.8660254037844388,1.8660254037844388],\"type\":\"mesh3d\"},{\"marker\":{\"color\":\"black\",\"line\":{\"color\":\"white\",\"width\":0},\"size\":2},\"opacity\":1,\"x\":[7.0,7.0,8.0,8.0,6.5,6.5,7.5,7.5],\"y\":[0.9999999999999999,2.0,2.0,0.9999999999999999,0.9999999999999999,2.0,2.0,0.9999999999999999],\"z\":[1,1,1,1,1.8660254037844388,1.8660254037844388,1.8660254037844388,1.8660254037844388],\"type\":\"scatter3d\"},{\"marker\":{\"color\":\"blue\",\"line\":{\"color\":\"white\",\"width\":0}},\"opacity\":1,\"x\":[-0.4999999999999997],\"y\":[1.0],\"z\":[0.8660254037844388],\"type\":\"scatter3d\"},{\"marker\":{\"color\":\"red\",\"line\":{\"color\":\"white\",\"width\":0}},\"opacity\":1,\"x\":[-0.4999999999999998],\"y\":[6.123233995736766e-17],\"z\":[0.8660254037844388],\"type\":\"scatter3d\"},{\"flatshading\":true,\"i\":[7,0,0,0,4,4,6,1,4,0,3,6],\"j\":[3,4,1,2,5,6,5,2,0,1,6,3],\"k\":[0,7,2,3,6,7,1,6,5,5,7,2],\"opacity\":1,\"x\":[8.0,8.0,9.0,9.0,7.5,7.5,8.5,8.5],\"y\":[0.0,1.0,1.0,0.0,6.123233995736766e-17,1.0,1.0,6.123233995736766e-17],\"z\":[0,0,0,0,0.8660254037844388,0.8660254037844388,0.8660254037844388,0.8660254037844388],\"type\":\"mesh3d\"},{\"marker\":{\"color\":\"black\",\"line\":{\"color\":\"white\",\"width\":0},\"size\":2},\"opacity\":1,\"x\":[8.0,8.0,9.0,9.0,7.5,7.5,8.5,8.5],\"y\":[0.0,1.0,1.0,0.0,6.123233995736766e-17,1.0,1.0,6.123233995736766e-17],\"z\":[0,0,0,0,0.8660254037844388,0.8660254037844388,0.8660254037844388,0.8660254037844388],\"type\":\"scatter3d\"},{\"marker\":{\"color\":\"blue\",\"line\":{\"color\":\"white\",\"width\":0}},\"opacity\":1,\"x\":[-0.4999999999999997],\"y\":[1.0],\"z\":[0.8660254037844388],\"type\":\"scatter3d\"},{\"marker\":{\"color\":\"red\",\"line\":{\"color\":\"white\",\"width\":0}},\"opacity\":1,\"x\":[-0.4999999999999998],\"y\":[6.123233995736766e-17],\"z\":[0.8660254037844388],\"type\":\"scatter3d\"},{\"flatshading\":true,\"i\":[7,0,0,0,4,4,6,1,4,0,3,6],\"j\":[3,4,1,2,5,6,5,2,0,1,6,3],\"k\":[0,7,2,3,6,7,1,6,5,5,7,2],\"opacity\":1,\"x\":[8.0,8.0,9.0,9.0,7.5,7.5,8.5,8.5],\"y\":[0.0,1.0,1.0,0.0,6.123233995736766e-17,1.0,1.0,6.123233995736766e-17],\"z\":[1,1,1,1,1.8660254037844388,1.8660254037844388,1.8660254037844388,1.8660254037844388],\"type\":\"mesh3d\"},{\"marker\":{\"color\":\"black\",\"line\":{\"color\":\"white\",\"width\":0},\"size\":2},\"opacity\":1,\"x\":[8.0,8.0,9.0,9.0,7.5,7.5,8.5,8.5],\"y\":[0.0,1.0,1.0,0.0,6.123233995736766e-17,1.0,1.0,6.123233995736766e-17],\"z\":[1,1,1,1,1.8660254037844388,1.8660254037844388,1.8660254037844388,1.8660254037844388],\"type\":\"scatter3d\"},{\"marker\":{\"color\":\"blue\",\"line\":{\"color\":\"white\",\"width\":0}},\"opacity\":1,\"x\":[-0.4999999999999997],\"y\":[1.0],\"z\":[0.8660254037844388],\"type\":\"scatter3d\"},{\"marker\":{\"color\":\"red\",\"line\":{\"color\":\"white\",\"width\":0}},\"opacity\":1,\"x\":[-0.4999999999999998],\"y\":[6.123233995736766e-17],\"z\":[0.8660254037844388],\"type\":\"scatter3d\"},{\"flatshading\":true,\"i\":[7,0,0,0,4,4,6,1,4,0,3,6],\"j\":[3,4,1,2,5,6,5,2,0,1,6,3],\"k\":[0,7,2,3,6,7,1,6,5,5,7,2],\"opacity\":1,\"x\":[8.0,8.0,9.0,9.0,7.5,7.5,8.5,8.5],\"y\":[0.9999999999999999,2.0,2.0,0.9999999999999999,0.9999999999999999,2.0,2.0,0.9999999999999999],\"z\":[0,0,0,0,0.8660254037844388,0.8660254037844388,0.8660254037844388,0.8660254037844388],\"type\":\"mesh3d\"},{\"marker\":{\"color\":\"black\",\"line\":{\"color\":\"white\",\"width\":0},\"size\":2},\"opacity\":1,\"x\":[8.0,8.0,9.0,9.0,7.5,7.5,8.5,8.5],\"y\":[0.9999999999999999,2.0,2.0,0.9999999999999999,0.9999999999999999,2.0,2.0,0.9999999999999999],\"z\":[0,0,0,0,0.8660254037844388,0.8660254037844388,0.8660254037844388,0.8660254037844388],\"type\":\"scatter3d\"},{\"marker\":{\"color\":\"blue\",\"line\":{\"color\":\"white\",\"width\":0}},\"opacity\":1,\"x\":[-0.4999999999999997],\"y\":[1.0],\"z\":[0.8660254037844388],\"type\":\"scatter3d\"},{\"marker\":{\"color\":\"red\",\"line\":{\"color\":\"white\",\"width\":0}},\"opacity\":1,\"x\":[-0.4999999999999998],\"y\":[6.123233995736766e-17],\"z\":[0.8660254037844388],\"type\":\"scatter3d\"},{\"flatshading\":true,\"i\":[7,0,0,0,4,4,6,1,4,0,3,6],\"j\":[3,4,1,2,5,6,5,2,0,1,6,3],\"k\":[0,7,2,3,6,7,1,6,5,5,7,2],\"opacity\":1,\"x\":[8.0,8.0,9.0,9.0,7.5,7.5,8.5,8.5],\"y\":[0.9999999999999999,2.0,2.0,0.9999999999999999,0.9999999999999999,2.0,2.0,0.9999999999999999],\"z\":[1,1,1,1,1.8660254037844388,1.8660254037844388,1.8660254037844388,1.8660254037844388],\"type\":\"mesh3d\"},{\"marker\":{\"color\":\"black\",\"line\":{\"color\":\"white\",\"width\":0},\"size\":2},\"opacity\":1,\"x\":[8.0,8.0,9.0,9.0,7.5,7.5,8.5,8.5],\"y\":[0.9999999999999999,2.0,2.0,0.9999999999999999,0.9999999999999999,2.0,2.0,0.9999999999999999],\"z\":[1,1,1,1,1.8660254037844388,1.8660254037844388,1.8660254037844388,1.8660254037844388],\"type\":\"scatter3d\"},{\"marker\":{\"color\":\"blue\",\"line\":{\"color\":\"white\",\"width\":0}},\"opacity\":1,\"x\":[-0.4999999999999997],\"y\":[1.0],\"z\":[0.8660254037844388],\"type\":\"scatter3d\"},{\"marker\":{\"color\":\"red\",\"line\":{\"color\":\"white\",\"width\":0}},\"opacity\":1,\"x\":[-0.4999999999999998],\"y\":[6.123233995736766e-17],\"z\":[0.8660254037844388],\"type\":\"scatter3d\"},{\"flatshading\":true,\"i\":[7,0,0,0,4,4,6,1,4,0,3,6],\"j\":[3,4,1,2,5,6,5,2,0,1,6,3],\"k\":[0,7,2,3,6,7,1,6,5,5,7,2],\"opacity\":1,\"x\":[9.0,9.0,10.0,10.0,8.5,8.5,9.5,9.5],\"y\":[0.0,1.0,1.0,0.0,6.123233995736766e-17,1.0,1.0,6.123233995736766e-17],\"z\":[0,0,0,0,0.8660254037844388,0.8660254037844388,0.8660254037844388,0.8660254037844388],\"type\":\"mesh3d\"},{\"marker\":{\"color\":\"black\",\"line\":{\"color\":\"white\",\"width\":0},\"size\":2},\"opacity\":1,\"x\":[9.0,9.0,10.0,10.0,8.5,8.5,9.5,9.5],\"y\":[0.0,1.0,1.0,0.0,6.123233995736766e-17,1.0,1.0,6.123233995736766e-17],\"z\":[0,0,0,0,0.8660254037844388,0.8660254037844388,0.8660254037844388,0.8660254037844388],\"type\":\"scatter3d\"},{\"marker\":{\"color\":\"blue\",\"line\":{\"color\":\"white\",\"width\":0}},\"opacity\":1,\"x\":[-0.4999999999999997],\"y\":[1.0],\"z\":[0.8660254037844388],\"type\":\"scatter3d\"},{\"marker\":{\"color\":\"red\",\"line\":{\"color\":\"white\",\"width\":0}},\"opacity\":1,\"x\":[-0.4999999999999998],\"y\":[6.123233995736766e-17],\"z\":[0.8660254037844388],\"type\":\"scatter3d\"},{\"flatshading\":true,\"i\":[7,0,0,0,4,4,6,1,4,0,3,6],\"j\":[3,4,1,2,5,6,5,2,0,1,6,3],\"k\":[0,7,2,3,6,7,1,6,5,5,7,2],\"opacity\":1,\"x\":[9.0,9.0,10.0,10.0,8.5,8.5,9.5,9.5],\"y\":[0.0,1.0,1.0,0.0,6.123233995736766e-17,1.0,1.0,6.123233995736766e-17],\"z\":[1,1,1,1,1.8660254037844388,1.8660254037844388,1.8660254037844388,1.8660254037844388],\"type\":\"mesh3d\"},{\"marker\":{\"color\":\"black\",\"line\":{\"color\":\"white\",\"width\":0},\"size\":2},\"opacity\":1,\"x\":[9.0,9.0,10.0,10.0,8.5,8.5,9.5,9.5],\"y\":[0.0,1.0,1.0,0.0,6.123233995736766e-17,1.0,1.0,6.123233995736766e-17],\"z\":[1,1,1,1,1.8660254037844388,1.8660254037844388,1.8660254037844388,1.8660254037844388],\"type\":\"scatter3d\"},{\"marker\":{\"color\":\"blue\",\"line\":{\"color\":\"white\",\"width\":0}},\"opacity\":1,\"x\":[-0.4999999999999997],\"y\":[1.0],\"z\":[0.8660254037844388],\"type\":\"scatter3d\"},{\"marker\":{\"color\":\"red\",\"line\":{\"color\":\"white\",\"width\":0}},\"opacity\":1,\"x\":[-0.4999999999999998],\"y\":[6.123233995736766e-17],\"z\":[0.8660254037844388],\"type\":\"scatter3d\"},{\"flatshading\":true,\"i\":[7,0,0,0,4,4,6,1,4,0,3,6],\"j\":[3,4,1,2,5,6,5,2,0,1,6,3],\"k\":[0,7,2,3,6,7,1,6,5,5,7,2],\"opacity\":1,\"x\":[9.0,9.0,10.0,10.0,8.5,8.5,9.5,9.5],\"y\":[0.9999999999999999,2.0,2.0,0.9999999999999999,0.9999999999999999,2.0,2.0,0.9999999999999999],\"z\":[0,0,0,0,0.8660254037844388,0.8660254037844388,0.8660254037844388,0.8660254037844388],\"type\":\"mesh3d\"},{\"marker\":{\"color\":\"black\",\"line\":{\"color\":\"white\",\"width\":0},\"size\":2},\"opacity\":1,\"x\":[9.0,9.0,10.0,10.0,8.5,8.5,9.5,9.5],\"y\":[0.9999999999999999,2.0,2.0,0.9999999999999999,0.9999999999999999,2.0,2.0,0.9999999999999999],\"z\":[0,0,0,0,0.8660254037844388,0.8660254037844388,0.8660254037844388,0.8660254037844388],\"type\":\"scatter3d\"},{\"marker\":{\"color\":\"blue\",\"line\":{\"color\":\"white\",\"width\":0}},\"opacity\":1,\"x\":[-0.4999999999999997],\"y\":[1.0],\"z\":[0.8660254037844388],\"type\":\"scatter3d\"},{\"marker\":{\"color\":\"red\",\"line\":{\"color\":\"white\",\"width\":0}},\"opacity\":1,\"x\":[-0.4999999999999998],\"y\":[6.123233995736766e-17],\"z\":[0.8660254037844388],\"type\":\"scatter3d\"},{\"flatshading\":true,\"i\":[7,0,0,0,4,4,6,1,4,0,3,6],\"j\":[3,4,1,2,5,6,5,2,0,1,6,3],\"k\":[0,7,2,3,6,7,1,6,5,5,7,2],\"opacity\":1,\"x\":[9.0,9.0,10.0,10.0,8.5,8.5,9.5,9.5],\"y\":[0.9999999999999999,2.0,2.0,0.9999999999999999,0.9999999999999999,2.0,2.0,0.9999999999999999],\"z\":[1,1,1,1,1.8660254037844388,1.8660254037844388,1.8660254037844388,1.8660254037844388],\"type\":\"mesh3d\"},{\"marker\":{\"color\":\"black\",\"line\":{\"color\":\"white\",\"width\":0},\"size\":2},\"opacity\":1,\"x\":[9.0,9.0,10.0,10.0,8.5,8.5,9.5,9.5],\"y\":[0.9999999999999999,2.0,2.0,0.9999999999999999,0.9999999999999999,2.0,2.0,0.9999999999999999],\"z\":[1,1,1,1,1.8660254037844388,1.8660254037844388,1.8660254037844388,1.8660254037844388],\"type\":\"scatter3d\"},{\"marker\":{\"color\":\"blue\",\"line\":{\"color\":\"white\",\"width\":0}},\"opacity\":1,\"x\":[-0.4999999999999997],\"y\":[1.0],\"z\":[0.8660254037844388],\"type\":\"scatter3d\"},{\"marker\":{\"color\":\"red\",\"line\":{\"color\":\"white\",\"width\":0}},\"opacity\":1,\"x\":[-0.4999999999999998],\"y\":[6.123233995736766e-17],\"z\":[0.8660254037844388],\"type\":\"scatter3d\"}],                        {\"template\":{\"data\":{\"histogram2dcontour\":[{\"type\":\"histogram2dcontour\",\"colorbar\":{\"outlinewidth\":0,\"ticks\":\"\"},\"colorscale\":[[0.0,\"#0d0887\"],[0.1111111111111111,\"#46039f\"],[0.2222222222222222,\"#7201a8\"],[0.3333333333333333,\"#9c179e\"],[0.4444444444444444,\"#bd3786\"],[0.5555555555555556,\"#d8576b\"],[0.6666666666666666,\"#ed7953\"],[0.7777777777777778,\"#fb9f3a\"],[0.8888888888888888,\"#fdca26\"],[1.0,\"#f0f921\"]]}],\"choropleth\":[{\"type\":\"choropleth\",\"colorbar\":{\"outlinewidth\":0,\"ticks\":\"\"}}],\"histogram2d\":[{\"type\":\"histogram2d\",\"colorbar\":{\"outlinewidth\":0,\"ticks\":\"\"},\"colorscale\":[[0.0,\"#0d0887\"],[0.1111111111111111,\"#46039f\"],[0.2222222222222222,\"#7201a8\"],[0.3333333333333333,\"#9c179e\"],[0.4444444444444444,\"#bd3786\"],[0.5555555555555556,\"#d8576b\"],[0.6666666666666666,\"#ed7953\"],[0.7777777777777778,\"#fb9f3a\"],[0.8888888888888888,\"#fdca26\"],[1.0,\"#f0f921\"]]}],\"heatmap\":[{\"type\":\"heatmap\",\"colorbar\":{\"outlinewidth\":0,\"ticks\":\"\"},\"colorscale\":[[0.0,\"#0d0887\"],[0.1111111111111111,\"#46039f\"],[0.2222222222222222,\"#7201a8\"],[0.3333333333333333,\"#9c179e\"],[0.4444444444444444,\"#bd3786\"],[0.5555555555555556,\"#d8576b\"],[0.6666666666666666,\"#ed7953\"],[0.7777777777777778,\"#fb9f3a\"],[0.8888888888888888,\"#fdca26\"],[1.0,\"#f0f921\"]]}],\"heatmapgl\":[{\"type\":\"heatmapgl\",\"colorbar\":{\"outlinewidth\":0,\"ticks\":\"\"},\"colorscale\":[[0.0,\"#0d0887\"],[0.1111111111111111,\"#46039f\"],[0.2222222222222222,\"#7201a8\"],[0.3333333333333333,\"#9c179e\"],[0.4444444444444444,\"#bd3786\"],[0.5555555555555556,\"#d8576b\"],[0.6666666666666666,\"#ed7953\"],[0.7777777777777778,\"#fb9f3a\"],[0.8888888888888888,\"#fdca26\"],[1.0,\"#f0f921\"]]}],\"contourcarpet\":[{\"type\":\"contourcarpet\",\"colorbar\":{\"outlinewidth\":0,\"ticks\":\"\"}}],\"contour\":[{\"type\":\"contour\",\"colorbar\":{\"outlinewidth\":0,\"ticks\":\"\"},\"colorscale\":[[0.0,\"#0d0887\"],[0.1111111111111111,\"#46039f\"],[0.2222222222222222,\"#7201a8\"],[0.3333333333333333,\"#9c179e\"],[0.4444444444444444,\"#bd3786\"],[0.5555555555555556,\"#d8576b\"],[0.6666666666666666,\"#ed7953\"],[0.7777777777777778,\"#fb9f3a\"],[0.8888888888888888,\"#fdca26\"],[1.0,\"#f0f921\"]]}],\"surface\":[{\"type\":\"surface\",\"colorbar\":{\"outlinewidth\":0,\"ticks\":\"\"},\"colorscale\":[[0.0,\"#0d0887\"],[0.1111111111111111,\"#46039f\"],[0.2222222222222222,\"#7201a8\"],[0.3333333333333333,\"#9c179e\"],[0.4444444444444444,\"#bd3786\"],[0.5555555555555556,\"#d8576b\"],[0.6666666666666666,\"#ed7953\"],[0.7777777777777778,\"#fb9f3a\"],[0.8888888888888888,\"#fdca26\"],[1.0,\"#f0f921\"]]}],\"mesh3d\":[{\"type\":\"mesh3d\",\"colorbar\":{\"outlinewidth\":0,\"ticks\":\"\"}}],\"scatter\":[{\"fillpattern\":{\"fillmode\":\"overlay\",\"size\":10,\"solidity\":0.2},\"type\":\"scatter\"}],\"parcoords\":[{\"type\":\"parcoords\",\"line\":{\"colorbar\":{\"outlinewidth\":0,\"ticks\":\"\"}}}],\"scatterpolargl\":[{\"type\":\"scatterpolargl\",\"marker\":{\"colorbar\":{\"outlinewidth\":0,\"ticks\":\"\"}}}],\"bar\":[{\"error_x\":{\"color\":\"#2a3f5f\"},\"error_y\":{\"color\":\"#2a3f5f\"},\"marker\":{\"line\":{\"color\":\"#E5ECF6\",\"width\":0.5},\"pattern\":{\"fillmode\":\"overlay\",\"size\":10,\"solidity\":0.2}},\"type\":\"bar\"}],\"scattergeo\":[{\"type\":\"scattergeo\",\"marker\":{\"colorbar\":{\"outlinewidth\":0,\"ticks\":\"\"}}}],\"scatterpolar\":[{\"type\":\"scatterpolar\",\"marker\":{\"colorbar\":{\"outlinewidth\":0,\"ticks\":\"\"}}}],\"histogram\":[{\"marker\":{\"pattern\":{\"fillmode\":\"overlay\",\"size\":10,\"solidity\":0.2}},\"type\":\"histogram\"}],\"scattergl\":[{\"type\":\"scattergl\",\"marker\":{\"colorbar\":{\"outlinewidth\":0,\"ticks\":\"\"}}}],\"scatter3d\":[{\"type\":\"scatter3d\",\"line\":{\"colorbar\":{\"outlinewidth\":0,\"ticks\":\"\"}},\"marker\":{\"colorbar\":{\"outlinewidth\":0,\"ticks\":\"\"}}}],\"scattermapbox\":[{\"type\":\"scattermapbox\",\"marker\":{\"colorbar\":{\"outlinewidth\":0,\"ticks\":\"\"}}}],\"scatterternary\":[{\"type\":\"scatterternary\",\"marker\":{\"colorbar\":{\"outlinewidth\":0,\"ticks\":\"\"}}}],\"scattercarpet\":[{\"type\":\"scattercarpet\",\"marker\":{\"colorbar\":{\"outlinewidth\":0,\"ticks\":\"\"}}}],\"carpet\":[{\"aaxis\":{\"endlinecolor\":\"#2a3f5f\",\"gridcolor\":\"white\",\"linecolor\":\"white\",\"minorgridcolor\":\"white\",\"startlinecolor\":\"#2a3f5f\"},\"baxis\":{\"endlinecolor\":\"#2a3f5f\",\"gridcolor\":\"white\",\"linecolor\":\"white\",\"minorgridcolor\":\"white\",\"startlinecolor\":\"#2a3f5f\"},\"type\":\"carpet\"}],\"table\":[{\"cells\":{\"fill\":{\"color\":\"#EBF0F8\"},\"line\":{\"color\":\"white\"}},\"header\":{\"fill\":{\"color\":\"#C8D4E3\"},\"line\":{\"color\":\"white\"}},\"type\":\"table\"}],\"barpolar\":[{\"marker\":{\"line\":{\"color\":\"#E5ECF6\",\"width\":0.5},\"pattern\":{\"fillmode\":\"overlay\",\"size\":10,\"solidity\":0.2}},\"type\":\"barpolar\"}],\"pie\":[{\"automargin\":true,\"type\":\"pie\"}]},\"layout\":{\"autotypenumbers\":\"strict\",\"colorway\":[\"#636efa\",\"#EF553B\",\"#00cc96\",\"#ab63fa\",\"#FFA15A\",\"#19d3f3\",\"#FF6692\",\"#B6E880\",\"#FF97FF\",\"#FECB52\"],\"font\":{\"color\":\"#2a3f5f\"},\"hovermode\":\"closest\",\"hoverlabel\":{\"align\":\"left\"},\"paper_bgcolor\":\"white\",\"plot_bgcolor\":\"#E5ECF6\",\"polar\":{\"bgcolor\":\"#E5ECF6\",\"angularaxis\":{\"gridcolor\":\"white\",\"linecolor\":\"white\",\"ticks\":\"\"},\"radialaxis\":{\"gridcolor\":\"white\",\"linecolor\":\"white\",\"ticks\":\"\"}},\"ternary\":{\"bgcolor\":\"#E5ECF6\",\"aaxis\":{\"gridcolor\":\"white\",\"linecolor\":\"white\",\"ticks\":\"\"},\"baxis\":{\"gridcolor\":\"white\",\"linecolor\":\"white\",\"ticks\":\"\"},\"caxis\":{\"gridcolor\":\"white\",\"linecolor\":\"white\",\"ticks\":\"\"}},\"coloraxis\":{\"colorbar\":{\"outlinewidth\":0,\"ticks\":\"\"}},\"colorscale\":{\"sequential\":[[0.0,\"#0d0887\"],[0.1111111111111111,\"#46039f\"],[0.2222222222222222,\"#7201a8\"],[0.3333333333333333,\"#9c179e\"],[0.4444444444444444,\"#bd3786\"],[0.5555555555555556,\"#d8576b\"],[0.6666666666666666,\"#ed7953\"],[0.7777777777777778,\"#fb9f3a\"],[0.8888888888888888,\"#fdca26\"],[1.0,\"#f0f921\"]],\"sequentialminus\":[[0.0,\"#0d0887\"],[0.1111111111111111,\"#46039f\"],[0.2222222222222222,\"#7201a8\"],[0.3333333333333333,\"#9c179e\"],[0.4444444444444444,\"#bd3786\"],[0.5555555555555556,\"#d8576b\"],[0.6666666666666666,\"#ed7953\"],[0.7777777777777778,\"#fb9f3a\"],[0.8888888888888888,\"#fdca26\"],[1.0,\"#f0f921\"]],\"diverging\":[[0,\"#8e0152\"],[0.1,\"#c51b7d\"],[0.2,\"#de77ae\"],[0.3,\"#f1b6da\"],[0.4,\"#fde0ef\"],[0.5,\"#f7f7f7\"],[0.6,\"#e6f5d0\"],[0.7,\"#b8e186\"],[0.8,\"#7fbc41\"],[0.9,\"#4d9221\"],[1,\"#276419\"]]},\"xaxis\":{\"gridcolor\":\"white\",\"linecolor\":\"white\",\"ticks\":\"\",\"title\":{\"standoff\":15},\"zerolinecolor\":\"white\",\"automargin\":true,\"zerolinewidth\":2},\"yaxis\":{\"gridcolor\":\"white\",\"linecolor\":\"white\",\"ticks\":\"\",\"title\":{\"standoff\":15},\"zerolinecolor\":\"white\",\"automargin\":true,\"zerolinewidth\":2},\"scene\":{\"xaxis\":{\"backgroundcolor\":\"#E5ECF6\",\"gridcolor\":\"white\",\"linecolor\":\"white\",\"showbackground\":true,\"ticks\":\"\",\"zerolinecolor\":\"white\",\"gridwidth\":2},\"yaxis\":{\"backgroundcolor\":\"#E5ECF6\",\"gridcolor\":\"white\",\"linecolor\":\"white\",\"showbackground\":true,\"ticks\":\"\",\"zerolinecolor\":\"white\",\"gridwidth\":2},\"zaxis\":{\"backgroundcolor\":\"#E5ECF6\",\"gridcolor\":\"white\",\"linecolor\":\"white\",\"showbackground\":true,\"ticks\":\"\",\"zerolinecolor\":\"white\",\"gridwidth\":2}},\"shapedefaults\":{\"line\":{\"color\":\"#2a3f5f\"}},\"annotationdefaults\":{\"arrowcolor\":\"#2a3f5f\",\"arrowhead\":0,\"arrowwidth\":1},\"geo\":{\"bgcolor\":\"white\",\"landcolor\":\"#E5ECF6\",\"subunitcolor\":\"white\",\"showland\":true,\"showlakes\":true,\"lakecolor\":\"white\"},\"title\":{\"x\":0.05},\"mapbox\":{\"style\":\"light\"}}},\"scene\":{\"aspectmode\":\"data\"}},                        {\"responsive\": true}                    ).then(function(){\n",
       "                            \n",
       "var gd = document.getElementById('5fc0c456-b0b1-4e66-b6fc-b84ede583c0e');\n",
       "var x = new MutationObserver(function (mutations, observer) {{\n",
       "        var display = window.getComputedStyle(gd).display;\n",
       "        if (!display || display === 'none') {{\n",
       "            console.log([gd, 'removed!']);\n",
       "            Plotly.purge(gd);\n",
       "            observer.disconnect();\n",
       "        }}\n",
       "}});\n",
       "\n",
       "// Listen for the removal of the full notebook cells\n",
       "var notebookContainer = gd.closest('#notebook-container');\n",
       "if (notebookContainer) {{\n",
       "    x.observe(notebookContainer, {childList: true});\n",
       "}}\n",
       "\n",
       "// Listen for the clearing of the current output cell\n",
       "var outputEl = gd.closest('.output');\n",
       "if (outputEl) {{\n",
       "    x.observe(outputEl, {childList: true});\n",
       "}}\n",
       "\n",
       "                        })                };                });            </script>        </div>"
      ]
     },
     "metadata": {},
     "output_type": "display_data"
    }
   ],
   "source": [
    "# Plot image\n",
    "fig = go.Figure(data=[])\n",
    "for nx in range(10):\n",
    "    for ny in range(2):\n",
    "        for nz in range(2):\n",
    "            fig.add_trace(\n",
    "                go.Mesh3d(\n",
    "                    # 8 vertices of a cube\n",
    "                    x=[A[0] + nx*a + ny*F[0] - ny*E[0], B[0] + nx*a + ny*F[0] - ny*E[0], C[0] + nx*a + ny*F[0] - ny*E[0], D[0] + nx*a + ny*F[0] - ny*E[0], E[0] + nx*a + ny*F[0] - ny*E[0], F[0] + nx*a + ny*F[0] - ny*E[0], G[0] + nx*a + ny*F[0] - ny*E[0], H[0] + nx*a + ny*F[0] - ny*E[0]],\n",
    "                    y=[A[1] + ny*b - ny*(b - F[1]) - ny*E[1], B[1] + ny*b - ny*(b - F[1]) - ny*E[1], C[1] + ny*b - ny*(b - F[1]) - ny*E[1], D[1] + ny*b - ny*(b - F[1]) - ny*E[1], E[1] + ny*b - ny*(b - F[1]) - ny*E[1], F[1] + ny*b - ny*(b - F[1]) - ny*E[1], G[1] + ny*b - ny*(b - F[1]) - ny*E[1], H[1] + ny*b - ny*(b - F[1]) - ny*E[1]],\n",
    "                    z=[A[2] + nz*c, B[2] + nz*c, C[2] + nz*c, D[2] + nz*c, E[2] + nz*c, F[2] + nz*c, G[2] + nz*c, H[2] + nz*c],\n",
    "\n",
    "                    i = [7, 0, 0, 0, 4, 4, 6, 1, 4, 0, 3, 6],\n",
    "                    j = [3, 4, 1, 2, 5, 6, 5, 2, 0, 1, 6, 3],\n",
    "                    k = [0, 7, 2, 3, 6, 7, 1, 6, 5, 5, 7, 2],\n",
    "                    opacity=1,\n",
    "                    # color=random_color(),\n",
    "                    flatshading = True\n",
    "                )\n",
    "            )\n",
    "\n",
    "            fig.add_trace(\n",
    "                go.Scatter3d(\n",
    "                    # 8 vertices of a cube\n",
    "                    x=[A[0] + nx*a + ny*F[0] - ny*E[0], B[0] + nx*a + ny*F[0] - ny*E[0], C[0] + nx*a + ny*F[0] - ny*E[0], D[0] + nx*a + ny*F[0] - ny*E[0], E[0] + nx*a + ny*F[0] - ny*E[0], F[0] + nx*a + ny*F[0] - ny*E[0], G[0] + nx*a + ny*F[0] - ny*E[0], H[0] + nx*a + ny*F[0] - ny*E[0]],\n",
    "                    y=[A[1] + ny*b - ny*(b - F[1]) - ny*E[1], B[1] + ny*b - ny*(b - F[1]) - ny*E[1], C[1] + ny*b - ny*(b - F[1]) - ny*E[1], D[1] + ny*b - ny*(b - F[1]) - ny*E[1], E[1] + ny*b - ny*(b - F[1]) - ny*E[1], F[1] + ny*b - ny*(b - F[1]) - ny*E[1], G[1] + ny*b - ny*(b - F[1]) - ny*E[1], H[1] + ny*b - ny*(b - F[1]) - ny*E[1]],\n",
    "                    z=[A[2] + nz*c, B[2] + nz*c, C[2] + nz*c, D[2] + nz*c, E[2] + nz*c, F[2] + nz*c, G[2] + nz*c, H[2] + nz*c],\n",
    "\n",
    "                    opacity=1,\n",
    "                    marker=dict(color='black', size=2, line=dict(width=0, color=\"white\"))\n",
    "                )\n",
    "            )\n",
    "\n",
    "            fig.add_trace(\n",
    "                go.Scatter3d(\n",
    "                    # 8 vertices of a cube\n",
    "                    x=[F[0]],\n",
    "                    y=[F[1]],\n",
    "                    z=[F[2]],\n",
    "\n",
    "                    opacity=1,\n",
    "                    marker=dict(color='blue', line=dict(width=0, color=\"white\"))\n",
    "                )\n",
    "            )\n",
    "\n",
    "            fig.add_trace(\n",
    "                go.Scatter3d(\n",
    "                    # 8 vertices of a cube\n",
    "                    x=[E[0]],\n",
    "                    y=[E[1]],\n",
    "                    z=[E[2]],\n",
    "\n",
    "                    opacity=1,\n",
    "                    marker=dict(color='red', line=dict(width=0, color=\"white\"))\n",
    "                )\n",
    "            )\n",
    "# Fix aspect ratio\n",
    "fig.update_scenes(aspectmode='data')\n",
    "\n",
    "fig.show()"
   ]
  },
  {
   "cell_type": "code",
   "execution_count": null,
   "metadata": {},
   "outputs": [],
   "source": []
  }
 ],
 "metadata": {
  "kernelspec": {
   "display_name": "Python 3",
   "language": "python",
   "name": "python3"
  },
  "language_info": {
   "codemirror_mode": {
    "name": "ipython",
    "version": 3
   },
   "file_extension": ".py",
   "mimetype": "text/x-python",
   "name": "python",
   "nbconvert_exporter": "python",
   "pygments_lexer": "ipython3",
   "version": "3.9.7"
  },
  "orig_nbformat": 4,
  "vscode": {
   "interpreter": {
    "hash": "aee8b7b246df8f9039afb4144a1f6fd8d2ca17a180786b69acc140d282b71a49"
   }
  }
 },
 "nbformat": 4,
 "nbformat_minor": 2
}
